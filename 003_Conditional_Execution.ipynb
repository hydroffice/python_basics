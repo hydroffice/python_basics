{
 "cells": [
  {
   "cell_type": "markdown",
   "metadata": {},
   "source": [
    "<a href=\"https://www.hydroffice.org/epom/\"><img src=\"images/000_000_epom_logo.png\" alt=\"ePOM\" title=\"Open ePOM home page\" align=\"center\" width=\"12%\" alt=\"Python logo\\\"></a>"
   ]
  },
  {
   "cell_type": "markdown",
   "metadata": {},
   "source": [
    "# Conditional Execution"
   ]
  },
  {
   "cell_type": "markdown",
   "metadata": {},
   "source": [
    "You have been introduced to some key programming concepts like [`str`](001_Variables_and_Types.ipynb#The-Text-Type:-str) and [`list`](002_Lists_of_Variables.ipynb#Lists-of-Variables) types in the previous notebooks.\n",
    "\n",
    "The kind of programs that you can write with those concepts is still limited in scope. For instance, you do not currently know how to write a program that performs a calculation only when a specific condition is verified.\n",
    "\n",
    "By the end of this notebook, you will learn how to do this! First we need to introduce another Python built-in type required for this purpose: `bool`."
   ]
  },
  {
   "cell_type": "markdown",
   "metadata": {},
   "source": [
    "## The Boolean Type"
   ]
  },
  {
   "cell_type": "markdown",
   "metadata": {},
   "source": [
    "The `bool` type, named after [the famous mathematician George Boole](https://en.wikipedia.org/wiki/George_Boole), has only two possible values: `True` and `False`. Thus, the value of this type is simply used to represent whether a condition is true or not."
   ]
  },
  {
   "cell_type": "code",
   "execution_count": null,
   "metadata": {},
   "outputs": [],
   "source": [
    "coding_is_easy = True\n",
    "type(coding_is_easy)"
   ]
  },
  {
   "cell_type": "markdown",
   "metadata": {},
   "source": [
    "<img align=\"left\" width=\"6%\" style=\"padding-right:10px;\" src=\"images/key.png\">\n",
    "\n",
    "A `bool` variable can only be `True` or `False`."
   ]
  },
  {
   "cell_type": "markdown",
   "metadata": {},
   "source": [
    "Similar to numeric types, you can print a `bool` type by **type-casting** as shown in the example below:"
   ]
  },
  {
   "cell_type": "code",
   "execution_count": null,
   "metadata": {},
   "outputs": [],
   "source": [
    "coding_is_easy = True\n",
    "print(\"Is coding easy? \" + str(coding_is_easy))"
   ]
  },
  {
   "cell_type": "markdown",
   "metadata": {},
   "source": [
    "## Boolean Expressions"
   ]
  },
  {
   "cell_type": "markdown",
   "metadata": {},
   "source": [
    "The output of a boolean expression is of type `bool`. Thus, it can only be `True` or `False`. "
   ]
  },
  {
   "cell_type": "markdown",
   "metadata": {},
   "source": [
    "<img align=\"left\" width=\"6%\" style=\"padding-right:10px;\" src=\"images/key.png\">\n",
    "\n",
    "A boolean expression usually has (at least) one **[relational operators](https://docs.python.org/3.9/reference/expressions.html?#value-comparisons)** that verifies a relation between two variables."
   ]
  },
  {
   "cell_type": "markdown",
   "metadata": {},
   "source": [
    "The table below lists the available relational operators:"
   ]
  },
  {
   "cell_type": "markdown",
   "metadata": {},
   "source": [
    "| Operator | Usage                        |\n",
    "| -------- | ---------------------------- |\n",
    "| `==`     | is equal to                  |\n",
    "| `!=`     | is not equal to              |\n",
    "| `>`      | is greater than              |\n",
    "| `>=`     | is greater than or equal to  |\n",
    "| `<`      | is less than                 |\n",
    "| `<=`     | is less than or equal to     |"
   ]
  },
  {
   "cell_type": "markdown",
   "metadata": {},
   "source": [
    "The cells below provide a couple of examples on how to use these operators:"
   ]
  },
  {
   "cell_type": "code",
   "execution_count": null,
   "metadata": {},
   "outputs": [],
   "source": [
    "3 != 2"
   ]
  },
  {
   "cell_type": "code",
   "execution_count": null,
   "metadata": {},
   "outputs": [],
   "source": [
    "13.42 <= 3.89"
   ]
  },
  {
   "cell_type": "markdown",
   "metadata": {},
   "source": [
    "<img align=left width=6% style=padding-right:10px; src=images/key.png>\n",
    "\n",
    "Python uses the `==` operator to compare two values. "
   ]
  },
  {
   "cell_type": "markdown",
   "metadata": {},
   "source": [
    "For instance, `a==b` will be True if `a` and `b` are equal. In contrast, the `=` operator assigns a value to a variable, see *[Variable and Types notebook](001_Variables_and_Types.ipynb#Dynamic-Nature-of-a-Variable-Type)*."
   ]
  },
  {
   "cell_type": "markdown",
   "metadata": {},
   "source": [
    "<img align=left width=6% style=padding-right:10px; src=images/key.png>\n",
    "\n",
    "When you want to compare for equality, you have to use `==`, **not** `=`. "
   ]
  },
  {
   "cell_type": "code",
   "execution_count": null,
   "metadata": {},
   "outputs": [],
   "source": [
    "3 == 2"
   ]
  },
  {
   "cell_type": "code",
   "execution_count": null,
   "metadata": {},
   "outputs": [],
   "source": [
    "82 == 82"
   ]
  },
  {
   "cell_type": "markdown",
   "metadata": {},
   "source": [
    "<img align=\"left\" width=\"6%\" style=\"padding-right:10px;\" src=\"images/key.png\">\n",
    "\n",
    "It is possible to combine pairs of boolean expressions (**operands**) into a single one using **[logical operators](https://docs.python.org/3.9/reference/expressions.html?#boolean-operations)** such as `and` and `or`. "
   ]
  },
  {
   "cell_type": "markdown",
   "metadata": {},
   "source": [
    "<img align=\"left\" width=\"6%\" style=\"padding-right:10px;\" src=\"images/key.png\">\n",
    "\n",
    "It is also possible to invert the result of a boolean expression using the `not` logical operator."
   ]
  },
  {
   "cell_type": "markdown",
   "metadata": {},
   "source": [
    "The following table summarizes the behavior of these **logical operators**:"
   ]
  },
  {
   "cell_type": "markdown",
   "metadata": {},
   "source": [
    "| Operator | Usage                                                               |\n",
    "| -------- | ------------------------------------------------------------------- |\n",
    "| `and`    | `True` if both the operands are `True`. Otherwise, `False`.         |\n",
    "| `or`     | `True` if either of the operands are `True`. Otherwise, `False`.    |\n",
    "| `not`    | `True` if the following operand is `False`. Otherwise, `False`.      |"
   ]
  },
  {
   "cell_type": "markdown",
   "metadata": {},
   "source": [
    "<img align=\"left\" width=\"6%\" style=\"padding-right:10px;\" src=\"images/info.png\">\n",
    "\n",
    "When a statement contains multiple operators, Python follows a well-defined [order of precedence](https://docs.python.org/3.9/reference/expressions.html#operator-precedence)."
   ]
  },
  {
   "cell_type": "markdown",
   "metadata": {},
   "source": [
    "The following example combines two relational operators and a logical operator using two pairs of round brackets:"
   ]
  },
  {
   "cell_type": "code",
   "execution_count": null,
   "metadata": {},
   "outputs": [],
   "source": [
    "(8 < 10) and (8 >= 2)"
   ]
  },
  {
   "cell_type": "markdown",
   "metadata": {},
   "source": [
    "The result of the above code is `True` because both `(8 < 10)` and `(8 >= 2)` operands are `True`."
   ]
  },
  {
   "cell_type": "markdown",
   "metadata": {},
   "source": [
    "<img align=\"left\" width=\"6%\" style=\"padding-right:10px;\" src=\"images/key.png\">\n",
    "\n",
    "Boolean expressions use **relational** and **logical operators** to verify one or more conditions."
   ]
  },
  {
   "cell_type": "markdown",
   "metadata": {},
   "source": [
    " "
   ]
  },
  {
   "cell_type": "markdown",
   "metadata": {
    "solution2": "hidden",
    "solution2_first": true
   },
   "source": [
    "<img align=\"left\" width=\"6%\" style=\"padding-right:10px;\" src=\"images/test.png\">\n",
    "\n",
    "Write the code that successfully checks (i.e., return `True`) that `10` is between `0` and `20` (both inclusive): "
   ]
  },
  {
   "cell_type": "code",
   "execution_count": null,
   "metadata": {
    "solution2": "hidden"
   },
   "outputs": [],
   "source": [
    "(10 >= 0) and (10 <= 20) "
   ]
  },
  {
   "cell_type": "code",
   "execution_count": null,
   "metadata": {},
   "outputs": [],
   "source": []
  },
  {
   "cell_type": "markdown",
   "metadata": {},
   "source": [
    "***"
   ]
  },
  {
   "cell_type": "markdown",
   "metadata": {},
   "source": [
    "## Add Comments to the Code"
   ]
  },
  {
   "cell_type": "markdown",
   "metadata": {},
   "source": [
    "A simple and powerful mechanism to make your code more readable is to add comments. Thus, it is considered best-practice in programming to **always add clear comments to your code**.\n",
    "\n",
    "Comments will help other people understand what the intent of your code is. Just as importantly, you will also help *yourself* when you need to look back at your own code after a few weeks or more. This is particularly true when your code gets longer and more complex."
   ]
  },
  {
   "cell_type": "markdown",
   "metadata": {},
   "source": [
    "You can add comments in your code by putting a `#` symbol in front of your notes. As such, three lines (in programming: **rows**) of the following example are comments. *(The notebook highlights comments in a different color.)*"
   ]
  },
  {
   "cell_type": "code",
   "execution_count": null,
   "metadata": {},
   "outputs": [],
   "source": [
    "# depth of the whale (meters)\n",
    "whale_depth = 23.5\n",
    "\n",
    "# maximum water depth in the area (meters)\n",
    "max_wd = 113.0\n",
    "\n",
    "# whale depth as percentage of maximum water depth \n",
    "pct_wd = (whale_depth / max_wd) * 100.0\n",
    "print(pct_wd)"
   ]
  },
  {
   "cell_type": "markdown",
   "metadata": {},
   "source": [
    "Comments do not need to be long (actually, verbose comments should be avoided!). Comments should be used in combination with meaningful variable names to clarify your intentions."
   ]
  },
  {
   "cell_type": "markdown",
   "metadata": {},
   "source": [
    "There is a component of **subjectivity** in deciding when a comment is required. However, there should be always a comment when one of the following two cases applies:\n",
    "\n",
    "* The code is **complicated** (also when the reasons behind your implementation are clear). \n",
    "* The reasons behind your implementation might be **unclear** (even if the code is simple). "
   ]
  },
  {
   "cell_type": "markdown",
   "metadata": {},
   "source": [
    "You may also place your comments on the same row as your regular code (**inline comments**). As you can verify by executing the code below, Python ignores text placed after a `#` on a row."
   ]
  },
  {
   "cell_type": "code",
   "execution_count": null,
   "metadata": {},
   "outputs": [],
   "source": [
    "whale_depth = 23.5  # depth of the whale (meters)\n",
    "max_wd = 113.0  # maximum water depth in the area (meters)\n",
    "\n",
    "pct_wd = (whale_depth / max_wd) * 100.0  # whale depth as percentage of maximum water depth \n",
    "print(pct_wd)"
   ]
  },
  {
   "cell_type": "markdown",
   "metadata": {},
   "source": [
    "<img align=\"left\" width=\"6%\" style=\"padding-right:10px;\" src=\"images/key.png\">\n",
    "\n",
    "Brief, but meaningful comments are good coding practice."
   ]
  },
  {
   "cell_type": "markdown",
   "metadata": {},
   "source": [
    "<img align=\"left\" width=\"6%\" style=\"padding-right:10px;\" src=\"images/key.png\">\n",
    "\n",
    "A comment starts with `#` and finishes at the end of a row."
   ]
  },
  {
   "cell_type": "markdown",
   "metadata": {},
   "source": [
    "From here onwards, you will find comments in both the code for examples and exercises."
   ]
  },
  {
   "cell_type": "markdown",
   "metadata": {},
   "source": [
    "***"
   ]
  },
  {
   "cell_type": "markdown",
   "metadata": {},
   "source": [
    "## Applying Conditions with `if`, `elif`, and `else`"
   ]
  },
  {
   "cell_type": "markdown",
   "metadata": {},
   "source": [
    "Conditional statements like [`if`](https://docs.python.org/3.9/reference/compound_stmts.html#the-if-statement), [`elif`](https://docs.python.org/3.9/reference/compound_stmts.html#the-if-statement), and [`else`](https://docs.python.org/3.9/reference/compound_stmts.html#the-if-statement) provide you with the ability to check whether specific conditions apply and change the behavior of your program accordingly."
   ]
  },
  {
   "cell_type": "markdown",
   "metadata": {},
   "source": [
    "To identify the code that has to be executed in case that a condition is `True`, the corresponding rows are indented."
   ]
  },
  {
   "cell_type": "code",
   "execution_count": null,
   "metadata": {},
   "outputs": [],
   "source": [
    "temp = -10  # deg Celsius\n",
    "\n",
    "if temp < 0:  # True when temp < 0, False otherwise\n",
    "    print(\"It is cold!\")  # This row is indented using the 'Tab' key!"
   ]
  },
  {
   "cell_type": "markdown",
   "metadata": {},
   "source": [
    "The above code prints `It is cold!` **only if** the value of temp is lower than `0`."
   ]
  },
  {
   "cell_type": "markdown",
   "metadata": {},
   "source": [
    "Python requires that you indent using a consistent number of spaces (commonly, 4 spaces)."
   ]
  },
  {
   "cell_type": "markdown",
   "metadata": {},
   "source": [
    "<img align=\"left\" width=\"6%\" style=\"padding-right:10px;\" src=\"images/key.png\">\n",
    "\n",
    "Use the `Tab` key on your keyboard and the notebook will convert that command to a fixed number of spaces."
   ]
  },
  {
   "cell_type": "markdown",
   "metadata": {},
   "source": [
    "<img align=\"left\" width=\"6%\" style=\"padding-right:10px;\" src=\"images/key.png\">\n",
    "\n",
    "Proper [indentation](https://docs.python.org/3.9/reference/lexical_analysis.html#indentation) is a key requirement in Python."
   ]
  },
  {
   "cell_type": "markdown",
   "metadata": {},
   "source": [
    "If you do not indent your code properly, you will get an **error** or the code will **not** execute the actions that you wanted."
   ]
  },
  {
   "cell_type": "markdown",
   "metadata": {},
   "source": [
    "### Using the `if` statement by itself"
   ]
  },
  {
   "cell_type": "markdown",
   "metadata": {},
   "source": [
    "We will start by only using the `if` statement. For example, we will print `It's cold!` if the temperature is lower than `0` degrees Celsius:"
   ]
  },
  {
   "cell_type": "code",
   "execution_count": null,
   "metadata": {},
   "outputs": [],
   "source": [
    "temp = -10  # deg Celsius\n",
    "\n",
    "if temp < 0:  # True when temp < 0, False otherwise\n",
    "    print(\"It is cold!\")  # look at the initial spaces: this row is indented!"
   ]
  },
  {
   "cell_type": "markdown",
   "metadata": {},
   "source": [
    "Did you notice the following details? \n",
    "\n",
    "- There is `:` at the end of the `if` row. This is **required** by Python syntax. &#x279C; *If you forget the `:`, the code will not work.*\n",
    "- There is the indentation before the `print(\"It is cold!\")`. This is **required** by Python syntax. &#x279C; *If you forget the indentation, the code will not work.*\n",
    "- There are three comments added to the code. They provide you with an explanation of the code at exactly the point where this is required. &#x279C; *If you remove the comments, the code results will not change.*"
   ]
  },
  {
   "cell_type": "markdown",
   "metadata": {},
   "source": [
    "What happens in the previous example if the temperature is above zero?"
   ]
  },
  {
   "cell_type": "code",
   "execution_count": null,
   "metadata": {},
   "outputs": [],
   "source": [
    "temp = 15  # deg Celsius\n",
    "\n",
    "if temp < 0:\n",
    "    print(\"It is cold!\")"
   ]
  },
  {
   "cell_type": "markdown",
   "metadata": {},
   "source": [
    "Nothing is printed! The above code does **not** trigger the printing of `It is cold`. It is because the condition in the `if` statement is `False`."
   ]
  },
  {
   "cell_type": "markdown",
   "metadata": {},
   "source": [
    " "
   ]
  },
  {
   "cell_type": "markdown",
   "metadata": {
    "solution2": "hidden",
    "solution2_first": true
   },
   "source": [
    "<img align=\"left\" width=\"6%\" style=\"padding-right:10px;\" src=\"images/test.png\">\n",
    "\n",
    "Add the code required to visualize `It is hot!` when the temperature is greater than or equal to `30` degrees Celsius: "
   ]
  },
  {
   "cell_type": "code",
   "execution_count": null,
   "metadata": {
    "solution2": "hidden"
   },
   "outputs": [],
   "source": [
    "temp = 35  # deg Celsius\n",
    "\n",
    "if temp >= 30:\n",
    "    print(\"It is hot!\")"
   ]
  },
  {
   "cell_type": "code",
   "execution_count": null,
   "metadata": {},
   "outputs": [],
   "source": [
    "temp = 35  # deg Celsius"
   ]
  },
  {
   "cell_type": "markdown",
   "metadata": {},
   "source": [
    "### More than just `if`: `elif` and `else`"
   ]
  },
  {
   "cell_type": "markdown",
   "metadata": {},
   "source": [
    "The keywords `elif` and `else` extend the capabilities of `if`:\n",
    "\n",
    "- The `elif` name is derived by merging *else* and *if* in a single word. And it means exactly that: only when the `if` condition is `False`, then the `elif` condition is checked.\n",
    "- The `else` is used to execute code only when all the conditions under `if` and `elif` (when present) are `False`."
   ]
  },
  {
   "cell_type": "markdown",
   "metadata": {},
   "source": [
    "Let us look at an example to clarify the combined use of `if`, `elif`, and `else`. The following code prints the sediment type based on the $\\phi$ value. <br> (If you want to know more about grain size and $\\phi$ values, read [here](https://en.wikipedia.org/wiki/Grain_size).)"
   ]
  },
  {
   "cell_type": "code",
   "execution_count": null,
   "metadata": {},
   "outputs": [],
   "source": [
    "phi = 2.5\n",
    "sediment_type = \"unknown\"\n",
    "\n",
    "# sediment classification based on Krumbein phi scale\n",
    "if phi > 8.0:\n",
    "    sediment_type = \"clay\"\n",
    "elif phi > 4.0:\n",
    "    sediment_type = \"silt\"\n",
    "elif phi > -1.0:\n",
    "    sediment_type = \"sand\"\n",
    "elif phi > -6:\n",
    "    sediment_type = \"gravel\"\n",
    "elif phi > -8:\n",
    "    sediment_type = \"cobble\"\n",
    "else:  # any phi less than -8 phi\n",
    "    sediment_type = \"boulder\"\n",
    "    \n",
    "print(\"The sediment type for a value of \" + str(phi) + \" phi is: \" + sediment_type)"
   ]
  },
  {
   "cell_type": "markdown",
   "metadata": {},
   "source": [
    "Feel free to modify the `phi` value in the above example to print different sediment types."
   ]
  },
  {
   "cell_type": "markdown",
   "metadata": {},
   "source": [
    "<img align=\"left\" width=\"6%\" style=\"padding-right:10px;\" src=\"images/key.png\">\n",
    "\n",
    "The `if`, `elif`, and `else` keywords are used to execute code based on specific conditions."
   ]
  },
  {
   "cell_type": "markdown",
   "metadata": {},
   "source": [
    " "
   ]
  },
  {
   "cell_type": "markdown",
   "metadata": {
    "solution2": "hidden",
    "solution2_first": true
   },
   "source": [
    "<img align=\"left\" width=\"6%\" style=\"padding-right:10px;\" src=\"images/test.png\">\n",
    "\n",
    "Add the code to display: `Weak` if the current strength (`cur_strength` variable) is less than `1.0` m\\s; `Moderate` when less than `5.0` m\\s; otherwise, `Strong`. "
   ]
  },
  {
   "cell_type": "code",
   "execution_count": null,
   "metadata": {
    "solution2": "hidden"
   },
   "outputs": [],
   "source": [
    "cur_strength = 5.5  # m/s\n",
    "cur_type = \"Unknown\"\n",
    "\n",
    "if cur_strength < 1.0:\n",
    "    cur_type = \"Weak\"\n",
    "elif cur_strength < 5.0:\n",
    "    cur_type = \"Moderate\"\n",
    "else:  # any current >= 5.0\n",
    "    cur_type = \"Strong\"\n",
    "    \n",
    "print(cur_type)"
   ]
  },
  {
   "cell_type": "code",
   "execution_count": null,
   "metadata": {},
   "outputs": [],
   "source": [
    "cur_strength = 5.5  # m/s\n",
    "cur_type = \"Unknown\""
   ]
  },
  {
   "cell_type": "markdown",
   "metadata": {},
   "source": [
    "***"
   ]
  },
  {
   "cell_type": "markdown",
   "metadata": {},
   "source": [
    "## Nested Conditions"
   ]
  },
  {
   "cell_type": "markdown",
   "metadata": {},
   "source": [
    "It is also possible to combine multiple conditions, by **nesting** them. This means that you can put conditional statements inside a conditional statement.\n",
    "\n",
    "The following example assumes you want to perform an experiment that only considers water temperatures and salinity values that are within some given ranges. However, you also want to provide an informative message when the measures are outside of these ranges. Using nested conditions, you may write something like the following code:"
   ]
  },
  {
   "cell_type": "code",
   "execution_count": null,
   "metadata": {},
   "outputs": [],
   "source": [
    "cur_temp = 14.0  # deg Celsius\n",
    "cur_sal = 32.0  # PSU\n",
    "\n",
    "if (cur_temp >= 8.0) and (cur_temp <= 16.0):  # this first 'if' condition is not indented\n",
    "    \n",
    "    if (cur_sal >= 30.0) and (cur_sal <= 34.0):  # this second 'if' condition is indented\n",
    "        \n",
    "        print(\"Valid conditions.\")  # this code has a double indentation!!!\n",
    "\n",
    "        # additional code to perform data analysis would go here\n",
    "        \n",
    "    else:  # this code is only executed when the second 'if' condition is False\n",
    "        print(\"WARNING: Invalid salinity value: \" + str(cur_sal))\n",
    "    \n",
    "else:  # this code is only executed when the first 'if' condition is False\n",
    "    print(\"WARNING: Invalid temperature value: \" + str(cur_temp))"
   ]
  },
  {
   "cell_type": "markdown",
   "metadata": {},
   "source": [
    "The second `if` in the code above is indented, thus it will only be called when the first `if` condition is `True` (that is, when the `cur_temp` value will be within 8.0 and 16.0 degree Celsius.\n",
    "\n",
    "The `print(\"Valid conditions.\")` will be called only when **both** the first and the second `if` condition are `True`.\n",
    "\n",
    "Try to modify the values for `cur_temp` and `cur_sal` variables in the above code to obtain the two possible warning messages!"
   ]
  },
  {
   "cell_type": "markdown",
   "metadata": {},
   "source": [
    "***"
   ]
  },
  {
   "cell_type": "markdown",
   "metadata": {},
   "source": [
    "<img align=\"left\" width=\"6%\" style=\"padding-right:10px; padding-top:10px;\" src=\"images/refs.png\">\n",
    "\n",
    "## Useful References"
   ]
  },
  {
   "cell_type": "markdown",
   "metadata": {},
   "source": [
    "* [The official Python 3.9 documentation](https://docs.python.org/3.9/index.html)\n",
    "  * [The bool type](https://docs.python.org/3.9/library/functions.html?#bool)\n",
    "  * [Indentation](https://docs.python.org/3.9/reference/lexical_analysis.html#indentation)\n",
    "  * [Relational Operators](https://docs.python.org/3.9/reference/expressions.html?#value-comparisons)\n",
    "  * [Logical Operators](https://docs.python.org/3.9/reference/expressions.html?#boolean-operations)\n",
    "  * [Order of Precedence for Operators](https://docs.python.org/3.9/reference/expressions.html#operator-precedence)\n",
    "  * [The `if` statement](https://docs.python.org/3.9/reference/compound_stmts.html#the-if-statement)\n",
    "* [Sediment Grain Size](https://en.wikipedia.org/wiki/Grain_size)"
   ]
  },
  {
   "cell_type": "markdown",
   "metadata": {},
   "source": [
    "<img align=\"left\" width=\"5%\" style=\"padding-right:10px;\" src=\"images/email.png\">\n",
    "\n",
    "*For issues or suggestions related to this notebook, write to: epom@ccom.unh.edu*"
   ]
  },
  {
   "cell_type": "markdown",
   "metadata": {},
   "source": [
    "<!--NAVIGATION-->\n",
    "[< Lists of Variables](002_Lists_of_Variables.ipynb) | [Contents](index.ipynb) | [Loops >](004_Loops.ipynb)"
   ]
  }
 ],
 "metadata": {
  "kernelspec": {
   "display_name": "Python 3",
   "language": "python",
   "name": "python3"
  },
  "language_info": {
   "codemirror_mode": {
    "name": "ipython",
    "version": 3
   },
   "file_extension": ".py",
   "mimetype": "text/x-python",
   "name": "python",
   "nbconvert_exporter": "python",
   "pygments_lexer": "ipython3",
   "version": "3.6.7"
  }
 },
 "nbformat": 4,
 "nbformat_minor": 2
}
