{
 "cells": [
  {
   "cell_type": "markdown",
   "metadata": {},
   "source": [
    "<a href=\"https://www.hydroffice.org/epom/\"><img src=\"images/000_000_epom_logo.png\" alt=\"ePOM\" title=\"Open ePOM home page\" align=\"center\" width=\"12%\" alt=\"Python logo\\\"></a>"
   ]
  },
  {
   "cell_type": "markdown",
   "metadata": {},
   "source": [
    "<a href=\"https://piazza.com/class/js5dnu0q39n6qe\"><img src=\"images/help.png\" alt=\"ePOM\" title=\"Ask questions on Piazza.com\" align=\"right\" width=\"10%\" alt=\"Piazza.com\\\"></a>\n",
    "# Variables and Types"
   ]
  },
  {
   "cell_type": "markdown",
   "metadata": {},
   "source": [
    "<img align=\"left\" width=\"6%\" style=\"padding-right:10px;\" src=\"images/key.png\">\n",
    "\n",
    "A [**variable**](https://en.wikipedia.org/wiki/Variable_(computer_science)) associates a meaningful name to a value (like a number or a text). This associated value of a variable can be changed."
   ]
  },
  {
   "cell_type": "markdown",
   "metadata": {},
   "source": [
    "## Python Variable Naming"
   ]
  },
  {
   "cell_type": "markdown",
   "metadata": {},
   "source": [
    "Variables can be named using **alphanumerical** characters `a-z`, `A-Z`, `0-9` and some special characters such as `_`. \n",
    "\n",
    "However, you have to remember that:\n",
    "- Uppercase and lowercase letters are interpreted as different characters (Python is **[case sensitive](https://en.wikipedia.org/wiki/Case_sensitivity)**).\n",
    "- The first character **cannot be a number** (Python generates a `SyntaxError`).\n",
    "- By convention (as defined in the [PEP8](https://www.python.org/dev/peps/pep-0008/) coding style):\n",
    "  - Variable names **start with a lower-case letter**. \n",
    "  - The underscore character `_` is used in names composed of multiple words to separate them (this convention is called [**snake_case**](https://en.wikipedia.org/wiki/Snake_case))."
   ]
  },
  {
   "cell_type": "markdown",
   "metadata": {},
   "source": [
    "For instance:\n",
    "- `ocean_mapping_2022` is a valid variable name.\n",
    "- `Ocean_mapping_2022` is a valid variable, but does not follow the convention because it starts with an uppercase `O`.\n",
    "- `ocean_mapping_2022` and `Ocean_mapping_2022` are **different** variables that are both valid. However, it is a bad habit to have variables that are only different in the letter case.\n",
    "- `2022_ocean_mapping` will **not** work because it has `2` as first character. "
   ]
  },
  {
   "cell_type": "markdown",
   "metadata": {},
   "source": [
    "In addition, there are a number of **Python keywords** that **cannot be used** as variable names. Here we list the most common:\n",
    "\n",
    "    and, as, assert, break, class, continue, def, del, elif, else, except, \n",
    "    exec, False, finally, for, from, global, if, import, in, is, lambda, not,\n",
    "    None, or, pass, print, raise, return, True, try, while, with, yield"
   ]
  },
  {
   "cell_type": "markdown",
   "metadata": {},
   "source": [
    "<img align=\"left\" width=\"6%\" style=\"padding-right:10px;\" src=\"images/key.png\">\n",
    "\n",
    "It is good practice and important to select variable names that are meaningful, but not too long."
   ]
  },
  {
   "cell_type": "markdown",
   "metadata": {},
   "source": [
    "## Dynamic Nature of a Variable Type"
   ]
  },
  {
   "cell_type": "markdown",
   "metadata": {},
   "source": [
    "You assign a value to a variable using the assignment operator: `=`."
   ]
  },
  {
   "cell_type": "markdown",
   "metadata": {},
   "source": [
    "<img align=\"left\" width=\"6%\" style=\"padding-right:10px;\" src=\"images/key.png\">\n",
    "\n",
    "The assignment operator `=` is used to create a new variable and give it a value."
   ]
  },
  {
   "cell_type": "markdown",
   "metadata": {},
   "source": [
    "<img align=\"left\" width=\"6%\" style=\"padding-right:10px;\" src=\"images/info.png\">\n",
    "\n",
    "You do not need to specify the type of a variable when you create it. We will explore what this means in practice below! <br> If you want to learn more about Python as a dynamically-typed language, read [this supplemental notebook](SUP_Python_is_Dynamically_and_Strongly_Typed.ipynb). "
   ]
  },
  {
   "cell_type": "markdown",
   "metadata": {},
   "source": [
    "If you execute the following **Code** cell, the value of `8.0` will be assigned to the variable named `x`. Here are a couple of hints:\n",
    "\n",
    "- Please note that we use `8.0` (not `8`) in the example below.\n",
    "- If you do not remember how to execute a **Code** cell, read the [welcome notebook](000_Welcome_on_Board.ipynb) again."
   ]
  },
  {
   "cell_type": "code",
   "execution_count": null,
   "metadata": {},
   "outputs": [],
   "source": [
    "x = 8.0"
   ]
  },
  {
   "cell_type": "markdown",
   "metadata": {},
   "source": [
    "Although you did not explicitly define the type, Python will infer the type for the variable behind the scenes.  "
   ]
  },
  {
   "cell_type": "markdown",
   "metadata": {},
   "source": [
    "You can retrieve the type of the `x` variable by using the function `type()`."
   ]
  },
  {
   "cell_type": "code",
   "execution_count": null,
   "metadata": {},
   "outputs": [],
   "source": [
    "type(x)"
   ]
  },
  {
   "cell_type": "markdown",
   "metadata": {},
   "source": [
    "By executing the previous **Code** cell, you will discover that the `x` variable is of type `float` *(You will learn more about `float` type in the next section).*"
   ]
  },
  {
   "cell_type": "markdown",
   "metadata": {},
   "source": [
    "If you assign another value to the `x` variable, its type may change. Try to execute (in order) the following two cells:"
   ]
  },
  {
   "cell_type": "code",
   "execution_count": null,
   "metadata": {},
   "outputs": [],
   "source": [
    "x = 8"
   ]
  },
  {
   "cell_type": "code",
   "execution_count": null,
   "metadata": {},
   "outputs": [],
   "source": [
    "type(x)"
   ]
  },
  {
   "cell_type": "markdown",
   "metadata": {},
   "source": [
    "The `x = 8` is an assignment that gives the value of `8` to the `x` variable. During this process, Python also derives that the `x` variable has to be of type `int`. To know what is the derived type, the `type()` function is executed with the `x` variable."
   ]
  },
  {
   "cell_type": "markdown",
   "metadata": {},
   "source": [
    "<img align=\"left\" width=\"6%\" style=\"padding-right:10px;\" src=\"images/key.png\">\n",
    "\n",
    "Python derives the type based on the assigned value."
   ]
  },
  {
   "cell_type": "markdown",
   "metadata": {},
   "source": [
    "<img align=\"left\" width=\"6%\" style=\"padding-right:10px;\" src=\"images/key.png\">\n",
    "\n",
    "The `type()` function is, similarly to `print()`, one of the many functions available with the Python standard library."
   ]
  },
  {
   "cell_type": "markdown",
   "metadata": {},
   "source": [
    "<img align=\"left\" width=\"6%\" style=\"padding-right:10px;\" src=\"images/info.png\">\n",
    "\n",
    "An extensive documentation explains the functions in the Python standard library. For instance, follow [this link](https://docs.python.org/3.9/library/functions.html?#type) to learn more about the `type()` function. "
   ]
  },
  {
   "cell_type": "markdown",
   "metadata": {},
   "source": [
    "What happens if you use the `type()` function with a variable `y` that has not yet been defined? Try it:"
   ]
  },
  {
   "cell_type": "code",
   "execution_count": null,
   "metadata": {},
   "outputs": [],
   "source": [
    "type(y)"
   ]
  },
  {
   "cell_type": "markdown",
   "metadata": {},
   "source": [
    "The first time that you execute the above cell, you will get a meaningful `NameError: name 'y' is not defined`!\n",
    "\n",
    "The error does not happen if you execute the following code since the `y` variable is first defined, then the `type()` function is called:"
   ]
  },
  {
   "cell_type": "code",
   "execution_count": null,
   "metadata": {},
   "outputs": [],
   "source": [
    "y = 3.2\n",
    "type(y)"
   ]
  },
  {
   "cell_type": "markdown",
   "metadata": {},
   "source": [
    "## Numeric Types: `int`, `float`, and `complex`"
   ]
  },
  {
   "cell_type": "markdown",
   "metadata": {},
   "source": [
    "<img align=\"left\" width=\"6%\" style=\"padding-right:10px;\" src=\"images/key.png\">\n",
    "\n",
    "Python has three built-in numeric types:"
   ]
  },
  {
   "cell_type": "markdown",
   "metadata": {},
   "source": [
    "* `int` for [integers](https://en.wikipedia.org/wiki/Integer_(computer_science)): e.g., `3`.\n",
    "* `float` for [floating-point numbers](https://en.wikipedia.org/wiki/Floating-point_arithmetic): e.g., `2.448`.\n",
    "* `complex` for [complex numbers](https://en.wikipedia.org/wiki/Complex_number): e.g., `4 + 5j`."
   ]
  },
  {
   "cell_type": "markdown",
   "metadata": {},
   "source": [
    " "
   ]
  },
  {
   "cell_type": "markdown",
   "metadata": {
    "solution2": "hidden",
    "solution2_first": true
   },
   "source": [
    "<img align=\"left\" width=\"6%\" style=\"padding-right:10px;\" src=\"images/test.png\">\n",
    "\n",
    "Write code that creates a variable named `z` with a floating-point value of `2.5`. Then, on a new line, display its type."
   ]
  },
  {
   "cell_type": "code",
   "execution_count": null,
   "metadata": {
    "solution2": "hidden"
   },
   "outputs": [],
   "source": [
    "z = 2.5\n",
    "type(z)"
   ]
  },
  {
   "cell_type": "code",
   "execution_count": null,
   "metadata": {},
   "outputs": [],
   "source": []
  },
  {
   "cell_type": "markdown",
   "metadata": {},
   "source": [
    " "
   ]
  },
  {
   "cell_type": "markdown",
   "metadata": {
    "solution2": "hidden",
    "solution2_first": true
   },
   "source": [
    "<img align=\"left\" width=\"6%\" style=\"padding-right:10px;\" src=\"images/test.png\">\n",
    "\n",
    "Write code that creates a variable named `w` with an integer value of your choice (the solution will use `2`). Then, on a new line, display its type."
   ]
  },
  {
   "cell_type": "code",
   "execution_count": null,
   "metadata": {
    "solution2": "hidden"
   },
   "outputs": [],
   "source": [
    "w = 2\n",
    "type(w)"
   ]
  },
  {
   "cell_type": "code",
   "execution_count": null,
   "metadata": {},
   "outputs": [],
   "source": []
  },
  {
   "cell_type": "markdown",
   "metadata": {},
   "source": [
    "***"
   ]
  },
  {
   "cell_type": "markdown",
   "metadata": {},
   "source": [
    "## Numeric Operators"
   ]
  },
  {
   "cell_type": "markdown",
   "metadata": {},
   "source": [
    "<img align=\"left\" width=\"6%\" style=\"padding-right:10px;\" src=\"images/key.png\">\n",
    "\n",
    "Python provides numeric operators like `+`, `-`, `/` and `*` to execute computations similarly to a pocket calculator."
   ]
  },
  {
   "cell_type": "code",
   "execution_count": null,
   "metadata": {},
   "outputs": [],
   "source": [
    "(1.0 + 3.5) * 13.2"
   ]
  },
  {
   "cell_type": "markdown",
   "metadata": {},
   "source": [
    "Other useful numeric operators are:"
   ]
  },
  {
   "cell_type": "markdown",
   "metadata": {},
   "source": [
    "- The `**` operator performs exponentiation (i.e., to raise a number to a power). For example:"
   ]
  },
  {
   "cell_type": "code",
   "execution_count": null,
   "metadata": {},
   "outputs": [],
   "source": [
    "4 ** 2"
   ]
  },
  {
   "cell_type": "markdown",
   "metadata": {},
   "source": [
    "- The `/` operator is used for division:"
   ]
  },
  {
   "cell_type": "code",
   "execution_count": null,
   "metadata": {},
   "outputs": [],
   "source": [
    "10 / 3"
   ]
  },
  {
   "cell_type": "markdown",
   "metadata": {},
   "source": [
    "- The `//` operator is used to calculate the quotient of an [Euclidean division](https://en.wikipedia.org/wiki/Euclidean_division), that is to divide two numbers and then round down the result to an integer. "
   ]
  },
  {
   "cell_type": "markdown",
   "metadata": {},
   "source": [
    "<img align=\"left\" width=\"6%\" style=\"padding-right:10px;\" src=\"images/info.png\">\n",
    "\n",
    "The `//` operator is also known as *floored division* and *integer division*."
   ]
  },
  {
   "cell_type": "markdown",
   "metadata": {},
   "source": [
    "The following example uses the `//` operator:"
   ]
  },
  {
   "cell_type": "code",
   "execution_count": null,
   "metadata": {},
   "outputs": [],
   "source": [
    "10 // 3"
   ]
  },
  {
   "cell_type": "markdown",
   "metadata": {},
   "source": [
    "- The `%` operator returns the modulus (the remainder of an [Euclidean division](https://en.wikipedia.org/wiki/Euclidean_division)):"
   ]
  },
  {
   "cell_type": "code",
   "execution_count": null,
   "metadata": {},
   "outputs": [],
   "source": [
    "10 % 3"
   ]
  },
  {
   "cell_type": "markdown",
   "metadata": {},
   "source": [
    "<img align=\"left\" width=\"6%\" style=\"padding-right:10px;\" src=\"images/key.png\">\n",
    "\n",
    "Python follows the [PEMDAS mathematical convention](https://en.wikipedia.org/wiki/Order_of_operations) for order of precedence in case of expressions with multiple numeric operators."
   ]
  },
  {
   "cell_type": "markdown",
   "metadata": {},
   "source": [
    "- **P**arentheses\n",
    "- **E**xponents\n",
    "- **M**ultiplication\n",
    "- **D**ivision\n",
    "- **A**ddition\n",
    "- **S**ubtraction"
   ]
  },
  {
   "cell_type": "markdown",
   "metadata": {},
   "source": [
    "Assuming that we have the requirement to multiply by `7` the resulting value of the addition of `2` and `3`, the corresponding code could be: "
   ]
  },
  {
   "cell_type": "code",
   "execution_count": null,
   "metadata": {},
   "outputs": [],
   "source": [
    "(2 + 3) * 7"
   ]
  },
  {
   "cell_type": "markdown",
   "metadata": {},
   "source": [
    "If we remove the parentheses from the above **Code** cell, we will get a result that is not correct based on our requirement:"
   ]
  },
  {
   "cell_type": "code",
   "execution_count": null,
   "metadata": {},
   "outputs": [],
   "source": [
    "2 + 3 * 7"
   ]
  },
  {
   "cell_type": "markdown",
   "metadata": {},
   "source": [
    "As another example of numeric expression, we can combine the floor division (`//`) and the modulus operator (`%`) between two numbers (`10` and `3`), by using round brackets (`(` and `)`), to get the original first value (e.g., `10`): "
   ]
  },
  {
   "cell_type": "code",
   "execution_count": null,
   "metadata": {},
   "outputs": [],
   "source": [
    "(10 // 3) * 3 + (10 % 3)"
   ]
  },
  {
   "cell_type": "markdown",
   "metadata": {},
   "source": [
    "In the above case, the parentheses are not actually required based on the [PEMDAS convention](https://en.wikipedia.org/wiki/Order_of_operations), but they make the code more readable than:"
   ]
  },
  {
   "cell_type": "code",
   "execution_count": null,
   "metadata": {},
   "outputs": [],
   "source": [
    "10 // 3 * 3 + 10 % 3"
   ]
  },
  {
   "cell_type": "markdown",
   "metadata": {},
   "source": [
    "<img align=\"left\" width=\"6%\" style=\"padding-right:10px;\" src=\"images/info.png\">\n",
    "\n",
    "You can read more about operator precedence in the official [Python documentation](https://docs.python.org/3.9/reference/expressions.html#operator-precedence)."
   ]
  },
  {
   "cell_type": "markdown",
   "metadata": {},
   "source": [
    "***"
   ]
  },
  {
   "cell_type": "markdown",
   "metadata": {},
   "source": [
    "## Using Numeric Operators with Variables"
   ]
  },
  {
   "cell_type": "markdown",
   "metadata": {},
   "source": [
    "<img align=\"left\" width=\"6%\" style=\"padding-right:10px;\" src=\"images/key.png\">\n",
    "\n",
    "In place of directly using values, you can assign values to variables and perform computation using them."
   ]
  },
  {
   "cell_type": "markdown",
   "metadata": {},
   "source": [
    "For instance:"
   ]
  },
  {
   "cell_type": "code",
   "execution_count": null,
   "metadata": {},
   "outputs": [],
   "source": [
    "n0 = 1.0\n",
    "n1 = 3.5\n",
    "n2 = 13.2\n",
    "result = (n0 + n1) * n2"
   ]
  },
  {
   "cell_type": "markdown",
   "metadata": {},
   "source": [
    "In the above cell, the variable `result` stores the value of the calculation. You can use the `print()` function to visualize the resulting value:"
   ]
  },
  {
   "cell_type": "code",
   "execution_count": null,
   "metadata": {},
   "outputs": [],
   "source": [
    "print(result)"
   ]
  },
  {
   "cell_type": "markdown",
   "metadata": {},
   "source": [
    " "
   ]
  },
  {
   "cell_type": "markdown",
   "metadata": {
    "solution2": "hidden",
    "solution2_first": true
   },
   "source": [
    "<img align=\"left\" width=\"6%\" style=\"padding-right:10px;\" src=\"images/test.png\">\n",
    "\n",
    "Create two variables (`add0` and `add1`) with integer values of `9` and `12`, then store the result of their sum in a variable named `sum_result`. Finally, print the resulting value."
   ]
  },
  {
   "cell_type": "code",
   "execution_count": null,
   "metadata": {
    "solution2": "hidden"
   },
   "outputs": [],
   "source": [
    "add0 = 9\n",
    "add1 = 12\n",
    "sum_result = add0 + add1\n",
    "print(sum_result)"
   ]
  },
  {
   "cell_type": "code",
   "execution_count": null,
   "metadata": {},
   "outputs": [],
   "source": []
  },
  {
   "cell_type": "markdown",
   "metadata": {},
   "source": [
    " "
   ]
  },
  {
   "cell_type": "markdown",
   "metadata": {
    "solution2": "hidden",
    "solution2_first": true
   },
   "source": [
    "<img align=\"left\" width=\"6%\" style=\"padding-right:10px;\" src=\"images/test.png\">\n",
    "\n",
    "Create two variables (`m0` and `m1`) with values `5.0` and `2.5`, then store the result of the division of `m0` by `m1` in a variable named `m01_div`. Finally, print the resulting value."
   ]
  },
  {
   "cell_type": "code",
   "execution_count": null,
   "metadata": {
    "solution2": "hidden"
   },
   "outputs": [],
   "source": [
    "m0 = 5.0\n",
    "m1 = 2.5\n",
    "m01_div = m0 / m1\n",
    "print(m01_div)"
   ]
  },
  {
   "cell_type": "code",
   "execution_count": null,
   "metadata": {},
   "outputs": [],
   "source": []
  },
  {
   "cell_type": "markdown",
   "metadata": {},
   "source": [
    "***"
   ]
  },
  {
   "cell_type": "markdown",
   "metadata": {},
   "source": [
    "## The Text Type: `str`"
   ]
  },
  {
   "cell_type": "markdown",
   "metadata": {},
   "source": [
    "<img align=\"left\" width=\"6%\" style=\"padding-right:10px;\" src=\"images/key.png\">\n",
    "\n",
    "The text type (`str`) is used as a string of characters (i.e., a container of letters). The characters are between `\" \"`."
   ]
  },
  {
   "cell_type": "code",
   "execution_count": null,
   "metadata": {
    "scrolled": true
   },
   "outputs": [],
   "source": [
    "course_title = \"Programming Basics with Python\"\n",
    "type(course_title)"
   ]
  },
  {
   "cell_type": "markdown",
   "metadata": {},
   "source": [
    "Similarly to the numeric types, a variable of `str` type can be visualized using the `print()` function:"
   ]
  },
  {
   "cell_type": "code",
   "execution_count": null,
   "metadata": {},
   "outputs": [],
   "source": [
    "print(course_title)"
   ]
  },
  {
   "cell_type": "markdown",
   "metadata": {},
   "source": [
    "<img align=\"left\" width=\"6%\" style=\"padding-right:10px;\" src=\"images/key.png\">\n",
    "\n",
    "Numeric operators applied to strings does not have the same effects seen with numeric types."
   ]
  },
  {
   "cell_type": "markdown",
   "metadata": {},
   "source": [
    "For instance, executing the following code will raise a `TypeError`, even if the two string variables (`\"23\"` and `\"16\"`) look like numbers:"
   ]
  },
  {
   "cell_type": "code",
   "execution_count": null,
   "metadata": {},
   "outputs": [],
   "source": [
    "\"23\" - \"16\""
   ]
  },
  {
   "cell_type": "markdown",
   "metadata": {},
   "source": [
    "The above is a very common error that new programmers encounter (`\"23\" - \"16\"`) is **not** the same as `23 - 16`)."
   ]
  },
  {
   "cell_type": "markdown",
   "metadata": {},
   "source": [
    "Python provides an extensive number of methods to manipulate strings. \n",
    "\n",
    "With this notebook, we will only introduce the `+` operator that can be used to concatenate two strings."
   ]
  },
  {
   "cell_type": "code",
   "execution_count": null,
   "metadata": {},
   "outputs": [],
   "source": [
    "term0 = \"Ocean\"\n",
    "term1 = \"Mapping\"\n",
    "conc_terms = term0 + \" \" + term1\n",
    "print(conc_terms)"
   ]
  },
  {
   "cell_type": "markdown",
   "metadata": {},
   "source": [
    "The above code concatenates three strings: two of them are the variables `term0` and `term1`. They are separated by a space (the string `\" \"`)."
   ]
  },
  {
   "cell_type": "markdown",
   "metadata": {},
   "source": [
    "It is also possible to cast a numeric variables (e.g., `days_per_week = 7`) into a string using `str(days_per_week)` as in the following cell:"
   ]
  },
  {
   "cell_type": "code",
   "execution_count": null,
   "metadata": {},
   "outputs": [],
   "source": [
    "days_per_week = 7\n",
    "output_text = \"A week has \" + str(days_per_week) + \" days.\"\n",
    "print(output_text)"
   ]
  },
  {
   "cell_type": "markdown",
   "metadata": {},
   "source": [
    "<img align=\"left\" width=\"6%\" style=\"padding-right:10px;\" src=\"images/key.png\">\n",
    "\n",
    "The `+` operator acts differently based on the variable type: numeric addition for numbers, and string concatenation for text."
   ]
  },
  {
   "cell_type": "markdown",
   "metadata": {},
   "source": [
    " "
   ]
  },
  {
   "cell_type": "markdown",
   "metadata": {
    "solution2": "hidden",
    "solution2_first": true
   },
   "source": [
    "<img align=\"left\" width=\"6%\" style=\"padding-right:10px;\" src=\"images/test.png\">\n",
    "\n",
    "Create a `cur_year` variable of type `int`. Use `cur_year` to create a string variable, then display: `The current year is 2022`."
   ]
  },
  {
   "cell_type": "code",
   "execution_count": null,
   "metadata": {
    "solution2": "hidden"
   },
   "outputs": [],
   "source": [
    "cur_year = 2022\n",
    "cur_year_str = \"The current year is \" + str(cur_year)\n",
    "print(cur_year_str)"
   ]
  },
  {
   "cell_type": "code",
   "execution_count": null,
   "metadata": {},
   "outputs": [],
   "source": []
  },
  {
   "cell_type": "markdown",
   "metadata": {},
   "source": [
    " "
   ]
  },
  {
   "cell_type": "markdown",
   "metadata": {
    "solution2": "hidden",
    "solution2_first": true
   },
   "source": [
    "<img align=\"left\" width=\"6%\" style=\"padding-right:10px;\" src=\"images/test.png\">\n",
    "\n",
    "We have written this short code that displays `PythonProgramming`:\n",
    "\n",
    "    text0 = \"Python\"\n",
    "    text1 = \"Programming\"\n",
    "    text2 = \"Basics\"\n",
    "    text3 = \"with\"\n",
    "    \n",
    "    conc_text = text0 + text1\n",
    "    print(conc_text)\n",
    "\n",
    "Modify it in the cell below to display `Programming Basics with Python`."
   ]
  },
  {
   "cell_type": "code",
   "execution_count": null,
   "metadata": {
    "solution2": "hidden"
   },
   "outputs": [],
   "source": [
    "text0 = \"Python\"\n",
    "text1 = \"Programming\"\n",
    "text2 = \"Basics\"\n",
    "text3 = \"with\"\n",
    "\n",
    "conc_text = text1 + \" \" + text2 + \" \" + text3 + \" \" + text0\n",
    "print(conc_text)"
   ]
  },
  {
   "cell_type": "code",
   "execution_count": null,
   "metadata": {},
   "outputs": [],
   "source": [
    "text0 = \"Python\"\n",
    "text1 = \"Programming\"\n",
    "text2 = \"Basics\"\n",
    "text3 = \"with\"\n",
    "\n",
    "conc_text = text0 + text1\n",
    "print(conc_text)"
   ]
  },
  {
   "cell_type": "markdown",
   "metadata": {},
   "source": [
    "# Summary"
   ]
  },
  {
   "cell_type": "markdown",
   "metadata": {},
   "source": [
    "You now know about variables, their [allowed names](#Python-Variable-Naming), a few of their possible content types (i.e., the [numeric types](#Numeric-Types:-int,-float,-and-complex) and the [string type](#The-Text-Type:-str)) and related functionalities. \n",
    "\n",
    "We will end this notebook with an exercise that will give you a bit of more freedom on how to implement the code. Feel free to experiment with some of the notions that you have just learned. The provided solution is just one of the possible way to achieve the task!"
   ]
  },
  {
   "cell_type": "markdown",
   "metadata": {
    "solution2": "hidden",
    "solution2_first": true
   },
   "source": [
    "<img align=\"left\" width=\"6%\" style=\"padding-right:10px;\" src=\"images/test.png\">\n",
    "\n",
    "Extend the provided code to calculate and display (i.e., use `print()`) a useful message reporting the number of seconds in a week."
   ]
  },
  {
   "cell_type": "code",
   "execution_count": null,
   "metadata": {
    "solution2": "hidden"
   },
   "outputs": [],
   "source": [
    "days_per_week = 7\n",
    "hours_per_day = 24\n",
    "minutes_per_hour = 60\n",
    "seconds_per_minute = 60\n",
    "\n",
    "total_seconds = days_per_week * hours_per_day * minutes_per_hour * seconds_per_minute\n",
    "output_message = \"A week has \" + str(total_seconds) + \" seconds.\"\n",
    "print(output_message)"
   ]
  },
  {
   "cell_type": "code",
   "execution_count": null,
   "metadata": {},
   "outputs": [],
   "source": [
    "days_per_week = 7\n",
    "hours_per_day = 24\n",
    "minutes_per_hour = 60\n",
    "seconds_per_minute = 60"
   ]
  },
  {
   "cell_type": "markdown",
   "metadata": {},
   "source": [
    "***"
   ]
  },
  {
   "cell_type": "markdown",
   "metadata": {},
   "source": [
    "<img align=\"left\" width=\"6%\" style=\"padding-right:10px; padding-top:10px;\" src=\"images/refs.png\">\n",
    "\n",
    "## Useful References"
   ]
  },
  {
   "cell_type": "markdown",
   "metadata": {},
   "source": [
    "* [The official Python 3.9 documentation](https://docs.python.org/3.9/index.html)\n",
    "  * [Python Built-in Types](https://docs.python.org/3.9/library/stdtypes.html)\n",
    "  * [Order of Precedence for Operators](https://docs.python.org/3.9/reference/expressions.html#operator-precedence)\n",
    "* [Euclidean division](https://en.wikipedia.org/wiki/Euclidean_division)\n",
    "* [PEMDAS mathematical convention](https://en.wikipedia.org/wiki/Order_of_operations)"
   ]
  },
  {
   "cell_type": "markdown",
   "metadata": {},
   "source": [
    "<img align=\"left\" width=\"5%\" style=\"padding-right:10px;\" src=\"images/email.png\">\n",
    "\n",
    "*For issues or suggestions related to this notebook, write to: epom@ccom.unh.edu*"
   ]
  },
  {
   "cell_type": "markdown",
   "metadata": {},
   "source": [
    "<!--NAVIGATION-->\n",
    "[< Welcome on Board](000_Welcome_on_Board.ipynb) | [Contents](index.ipynb) | [Lists of Variables >](002_Lists_of_Variables.ipynb)"
   ]
  }
 ],
 "metadata": {
  "kernelspec": {
   "display_name": "Python 3",
   "language": "python",
   "name": "python3"
  },
  "language_info": {
   "codemirror_mode": {
    "name": "ipython",
    "version": 3
   },
   "file_extension": ".py",
   "mimetype": "text/x-python",
   "name": "python",
   "nbconvert_exporter": "python",
   "pygments_lexer": "ipython3",
   "version": "3.9.7"
  }
 },
 "nbformat": 4,
 "nbformat_minor": 2
}
