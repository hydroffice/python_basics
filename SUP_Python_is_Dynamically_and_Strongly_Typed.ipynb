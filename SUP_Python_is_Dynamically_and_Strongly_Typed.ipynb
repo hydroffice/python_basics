{
 "cells": [
  {
   "cell_type": "markdown",
   "metadata": {},
   "source": [
    "<a href=\"https://www.hydroffice.org/epom/\"><img src=\"images/000_000_epom_logo.png\" alt=\"ePOM\" title=\"Open ePOM home page\" align=\"center\" width=\"12%\" alt=\"Python logo\\\"></a>"
   ]
  },
  {
   "cell_type": "markdown",
   "metadata": {},
   "source": [
    "<a href=\"https://piazza.com/class/js5dnu0q39n6qe\"><img src=\"images/help.png\" alt=\"ePOM\" title=\"Ask questions on Piazza.com\" align=\"right\" width=\"10%\" alt=\"Piazza.com\\\"></a>\n",
    "# Python is Dynamically and Strongly Typed"
   ]
  },
  {
   "cell_type": "markdown",
   "metadata": {},
   "source": [
    "## Introduction"
   ]
  },
  {
   "cell_type": "markdown",
   "metadata": {},
   "source": [
    "Computers use bits to represent values. How the combination of bits is translated to the proper value depends on the assigned specific type. "
   ]
  },
  {
   "cell_type": "markdown",
   "metadata": {},
   "source": [
    "For example, 8 bits can represent 2^8 (i.e., 256) possible values. If the value is of [unsigned](https://en.wikipedia.org/wiki/Signedness) [integer](https://en.wikipedia.org/wiki/Integer_(computer_science)) type, the 8 bits can be used to represent values from 0 to 255. However, the same 8 bits can also be used to hold a [character](https://en.wikipedia.org/wiki/Character_(computing)) type, and thus any of 256 alphanumerical characters (e.g., the characters specified in the [ASCII Table](https://en.wikipedia.org/wiki/ASCII))."
   ]
  },
  {
   "cell_type": "markdown",
   "metadata": {},
   "source": [
    "## Statically vs. Dynamically Typing"
   ]
  },
  {
   "cell_type": "markdown",
   "metadata": {},
   "source": [
    "Many programming languages (e.g., [C++](https://en.wikipedia.org/wiki/C%2B%2B), [Go](https://en.wikipedia.org/wiki/Go_(programming_language))) require that the type of a variable is declared by the coder. They are called **statically typed**. \n",
    "\n",
    "However, there are programing languages, like **Python**, that allow the coder to just assign values to variables. When the code is executed, these language automatically infer how the variables should be handled (type check). These languages are called **dynamically typed**."
   ]
  },
  {
   "cell_type": "markdown",
   "metadata": {},
   "source": [
    "Statically typed languages have usually better performance when the code is executed since they do not need to check types dynamically while executing the code (The checks happen before running)."
   ]
  },
  {
   "cell_type": "markdown",
   "metadata": {},
   "source": [
    "## Strongly vs. Weakly Typing"
   ]
  },
  {
   "cell_type": "markdown",
   "metadata": {},
   "source": [
    "Since it keeps track of all variables types, Python is also a **strongly typed** language."
   ]
  },
  {
   "cell_type": "markdown",
   "metadata": {},
   "source": [
    "The implication of this is that the following code will raise a `TypeError` because **type coercion** is not allowed:"
   ]
  },
  {
   "cell_type": "code",
   "execution_count": null,
   "metadata": {},
   "outputs": [],
   "source": [
    "'2' + 8"
   ]
  },
  {
   "cell_type": "markdown",
   "metadata": {},
   "source": [
    "In a case similar to the above, **weakly typed** languages, such as [JavaScript](https://en.wikipedia.org/wiki/JavaScript), will provide a result: `'28'` without raising an error. Thus, they have the ability to change type implicitly in specific cases (e.g., use of `+` operator)."
   ]
  },
  {
   "cell_type": "markdown",
   "metadata": {},
   "source": [
    "***"
   ]
  },
  {
   "cell_type": "markdown",
   "metadata": {},
   "source": [
    "<img align=\"left\" width=\"6%\" style=\"padding-right:10px; padding-top:10px;\" src=\"images/refs.png\">\n",
    "\n",
    "## Useful References"
   ]
  },
  {
   "cell_type": "markdown",
   "metadata": {},
   "source": [
    "* [The official Python 3.9 documentation](https://docs.python.org/3.9/index.html)\n",
    "* [Why is Python a dynamic language and also a strongly typed language](https://wiki.python.org/moin/Why%20is%20Python%20a%20dynamic%20language%20and%20also%20a%20strongly%20typed%20language)"
   ]
  },
  {
   "cell_type": "markdown",
   "metadata": {},
   "source": [
    "<img align=\"left\" width=\"5%\" style=\"padding-right:10px;\" src=\"images/email.png\">\n",
    "\n",
    "*For issues or suggestions related to this notebook, write to: epom@ccom.unh.edu*"
   ]
  },
  {
   "cell_type": "markdown",
   "metadata": {},
   "source": [
    "<!--NAVIGATION-->\n",
    "| [Contents](index.ipynb) |"
   ]
  }
 ],
 "metadata": {
  "kernelspec": {
   "display_name": "Python 3",
   "language": "python",
   "name": "python3"
  },
  "language_info": {
   "codemirror_mode": {
    "name": "ipython",
    "version": 3
   },
   "file_extension": ".py",
   "mimetype": "text/x-python",
   "name": "python",
   "nbconvert_exporter": "python",
   "pygments_lexer": "ipython3",
   "version": "3.6.7"
  }
 },
 "nbformat": 4,
 "nbformat_minor": 2
}
