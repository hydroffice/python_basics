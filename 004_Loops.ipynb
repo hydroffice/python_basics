{
 "cells": [
  {
   "cell_type": "markdown",
   "metadata": {},
   "source": [
    "<a href=\"https://www.hydroffice.org/epom/\"><img src=\"images/000_000_epom_logo.png\" alt=\"ePOM\" title=\"Open ePOM home page\" align=\"center\" width=\"12%\" alt=\"Python logo\\\"></a>"
   ]
  },
  {
   "cell_type": "markdown",
   "metadata": {},
   "source": [
    "<a href=\"https://piazza.com/class/js5dnu0q39n6qe\"><img src=\"images/help.png\" alt=\"ePOM\" title=\"Ask questions on Piazza.com\" align=\"right\" width=\"10%\" alt=\"Piazza.com\\\"></a>\n",
    "# Loops"
   ]
  },
  {
   "cell_type": "markdown",
   "metadata": {},
   "source": [
    "Learning about the `if` conditional statement has strongly improved your coding powers!\n",
    "\n",
    "You know what a `list` is from the [Lists of Variables notebook](002_Lists_of_Variables.ipynb), and how to interact with this useful data container.\n",
    "\n",
    "After the [Conditional Execution notebook](003_Conditional_Execution.ipynb), you can now also organize your code so that some actions are executed only when one or more specific conditions are `True`.\n",
    "\n",
    "We will now combine what you have learned by using a new coding mechanism: the `for` loop."
   ]
  },
  {
   "cell_type": "markdown",
   "metadata": {},
   "source": [
    "## The `for` loop"
   ]
  },
  {
   "cell_type": "markdown",
   "metadata": {},
   "source": [
    "<img align=\"left\" width=\"6%\" style=\"padding-right:10px;\" src=\"images/key.png\">\n",
    "\n",
    "A `for` loop is used to move through items (**iterate**) in a sequence of elements such as a list."
   ]
  },
  {
   "cell_type": "markdown",
   "metadata": {},
   "source": [
    "Similarly to the [`if`](003_Conditional_Execution.ipynb#Applying-Conditions-with-if,-elif,-and-else) statement, a `for` loop has several formatting requirements:\n",
    "\n",
    "- It begins with a `for` condition like `for <variable> in <sequence>` where:\n",
    "  - `<sequence>` is the list over which to iterate.\n",
    "  - `<variable>` is the name of a variable that will store the current value on each iteration. \n",
    "- A `:` at the end of the `for` condition.\n",
    "- The indentation of all the lines of code that have to be executed in each iteration."
   ]
  },
  {
   "cell_type": "markdown",
   "metadata": {},
   "source": [
    "Let us put these requirements in practice in the following code:"
   ]
  },
  {
   "cell_type": "code",
   "execution_count": null,
   "metadata": {},
   "outputs": [],
   "source": [
    "temp_list = [21.3, 21.7, 22.0, 22.5, 21.9]  # temperatures in degrees Celsius\n",
    "\n",
    "for temp_value in temp_list:  # `temp_value` temporarily stores the subsequent value in the list\n",
    "    temp_str = str(temp_value)  # type-casting the `float` to a `str` for printing its value in the next row \n",
    "    print(\"The temperature is \" + temp_str + \" degree Celsius.\")"
   ]
  },
  {
   "cell_type": "markdown",
   "metadata": {},
   "source": [
    "The `print()` function will be called five times by executing the above **Code** cell. Once for each item in the `temp_list`."
   ]
  },
  {
   "cell_type": "markdown",
   "metadata": {},
   "source": [
    "The header of the above `for` loop is very descriptive of what is going to happen! <br>\n",
    "You can almost read the `for temp_value in temp_list:` as plain English. That is, `for` each temperature value `in` the list do *something*. And the *something* is what is in the indented body of the loop:\n",
    "\n",
    "- Convert the `temp_value` into a string.\n",
    "- Print the temperature value in a sentence that is reader friendly (e.g., `The temperature is 21.3 degree Celsius.`).  "
   ]
  },
  {
   "cell_type": "markdown",
   "metadata": {},
   "source": [
    " "
   ]
  },
  {
   "cell_type": "markdown",
   "metadata": {
    "solution2": "hidden",
    "solution2_first": true
   },
   "source": [
    "<img align=\"left\" width=\"6%\" style=\"padding-right:10px;\" src=\"images/test.png\">\n",
    "\n",
    "Add the code required to print a message for each value in the `sal_list`:"
   ]
  },
  {
   "cell_type": "code",
   "execution_count": null,
   "metadata": {
    "solution2": "hidden"
   },
   "outputs": [],
   "source": [
    "sal_list = [32.1, 33.7, 35.0, 32.5, 31.9]  # water salinity in PSU\n",
    "\n",
    "for sal_value in sal_list:\n",
    "    sal_str = str(sal_value)\n",
    "    print(\"The salinity is \" + sal_str + \" PSU.\")"
   ]
  },
  {
   "cell_type": "code",
   "execution_count": null,
   "metadata": {},
   "outputs": [],
   "source": [
    "sal_list = [32.1, 33.7, 35.0, 32.5, 31.9]  # water salinity in PSU"
   ]
  },
  {
   "cell_type": "markdown",
   "metadata": {},
   "source": [
    "***"
   ]
  },
  {
   "cell_type": "markdown",
   "metadata": {},
   "source": [
    "## Controlling a loop with `break` and `continue`"
   ]
  },
  {
   "cell_type": "markdown",
   "metadata": {},
   "source": [
    "The `break` and `continue` keywords allow for the creation of efficient loops.\n",
    "\n",
    "For instance, assuming that you want to be sure that a list of temperatures has at least a value higher than 10 degrees Celsius. Using `break`, you can stop the iteration when that condition is `True`."
   ]
  },
  {
   "cell_type": "code",
   "execution_count": null,
   "metadata": {},
   "outputs": [],
   "source": [
    "temp_list = [1.6, 11.7, 12.1, 2.4, 8.9]  # temperatures in degrees Celsius\n",
    "\n",
    "for temp_value in temp_list:\n",
    "    \n",
    "    print(\"Temperature value: \" + str(temp_value))  # Here `temp_value` is type-casted within the `print` function \n",
    "    \n",
    "    if temp_value > 10:\n",
    "        print(\"BREAK: At least one temperature value is higher than 10 degrees Celsius.\")\n",
    "        break  # if the execution reach this point, the loop stops"
   ]
  },
  {
   "cell_type": "markdown",
   "metadata": {},
   "source": [
    "<img align=\"left\" width=\"6%\" style=\"padding-right:10px;\" src=\"images/key.png\">\n",
    "\n",
    "The `break` keyword is used to totally stop the loop."
   ]
  },
  {
   "cell_type": "markdown",
   "metadata": {},
   "source": [
    "The `continue` keyword is used when you do not want to process the current item anymore, and to go to the next one in the list (if any)."
   ]
  },
  {
   "cell_type": "code",
   "execution_count": null,
   "metadata": {},
   "outputs": [],
   "source": [
    "sal_list = [32.6, 33.3, 34.8, 32.4, 34.3, 33.7, 32.3]  # water salinity in PSU\n",
    "\n",
    "for sal_value in sal_list:\n",
    "    \n",
    "    if sal_value < 34.0:\n",
    "        continue  # if the execution reach this point, the loop jumps to the next item in the list\n",
    "        \n",
    "    print(\"High salinity: \" + str(sal_value) + \" PSU.\")"
   ]
  },
  {
   "cell_type": "markdown",
   "metadata": {},
   "source": [
    "<img align=\"left\" width=\"6%\" style=\"padding-right:10px;\" src=\"images/key.png\">\n",
    "\n",
    "The `continue` keyword is used to jump to the next element in the loop."
   ]
  },
  {
   "cell_type": "markdown",
   "metadata": {},
   "source": [
    " "
   ]
  },
  {
   "cell_type": "markdown",
   "metadata": {
    "solution2": "hidden",
    "solution2_first": true
   },
   "source": [
    "<img align=\"left\" width=\"6%\" style=\"padding-right:10px;\" src=\"images/test.png\">\n",
    "\n",
    "Using `break` or `continue`, modify the code to **stop** the printing of sound speed values when the **first** value is outside of the validity range from 1400 m/s to 1600 m/s. (Hint: if you do not remember how to use the **logical operators**, read the [Conditional Execution notebook](003_Conditional_Execution.ipynb#Boolean-Expressions) again)"
   ]
  },
  {
   "cell_type": "code",
   "execution_count": null,
   "metadata": {
    "solution2": "hidden"
   },
   "outputs": [],
   "source": [
    "ss_list = [1500.6, 1501.3, 1498.2, -12.4, 1504.4, 33.7, 32.3]  # sound speed in m/s\n",
    "\n",
    "for ss_value in ss_list:\n",
    "    \n",
    "    if (ss_value < 1400.0) or (ss_value > 1600.0):\n",
    "        break\n",
    "        \n",
    "    print(\"Sound speed: \" + str(ss_value) + \" m/s.\")"
   ]
  },
  {
   "cell_type": "code",
   "execution_count": null,
   "metadata": {},
   "outputs": [],
   "source": [
    "ss_list = [1500.6, 1501.3, 1498.2, -12.4, 1504.4, 33.7, 32122.3]  # sound speed in m/s\n",
    "\n",
    "for ss_value in ss_list:\n",
    "        \n",
    "    print(\"Sound speed: \" + str(ss_value) + \" m/s.\")"
   ]
  },
  {
   "cell_type": "markdown",
   "metadata": {},
   "source": [
    " "
   ]
  },
  {
   "cell_type": "markdown",
   "metadata": {
    "solution2": "hidden",
    "solution2_first": true
   },
   "source": [
    "<img align=\"left\" width=\"6%\" style=\"padding-right:10px;\" src=\"images/test.png\">\n",
    "\n",
    "Using `break` or `continue`, modify the code to print **only** sound speed values **within** the validity range from 1400 m/s to 1600 m/s:"
   ]
  },
  {
   "cell_type": "code",
   "execution_count": null,
   "metadata": {
    "solution2": "hidden"
   },
   "outputs": [],
   "source": [
    "ss_list = [1500.6, 1501.3, 1498.2, -12.4, 1504.4, 33.7, 32.3]  # sound speed in m/sec\n",
    "\n",
    "for ss_value in ss_list:\n",
    "    \n",
    "    if (ss_value < 1400.0) or (ss_value > 1600.0):\n",
    "        continue\n",
    "        \n",
    "    print(\"Sound speed: \" + str(ss_value) + \" m/s.\")"
   ]
  },
  {
   "cell_type": "code",
   "execution_count": null,
   "metadata": {},
   "outputs": [],
   "source": [
    "ss_list = [1500.6, 1501.3, 1498.2, -12.4, 1504.4, 33.7, 32122.3]  # sound speed in m/s\n",
    "\n",
    "for ss_value in ss_list:\n",
    "        \n",
    "    print(\"Sound speed: \" + str(ss_value) + \" m/s.\")"
   ]
  },
  {
   "cell_type": "markdown",
   "metadata": {},
   "source": [
    "***"
   ]
  },
  {
   "cell_type": "markdown",
   "metadata": {},
   "source": [
    "## The `while` loop"
   ]
  },
  {
   "cell_type": "markdown",
   "metadata": {},
   "source": [
    "This kind of loop keeps iterating until a given condition becomes `False`.\n",
    "\n",
    "To provide an example of `while` loop, we will use a new method of a list: `pop()`. "
   ]
  },
  {
   "cell_type": "markdown",
   "metadata": {},
   "source": [
    "<img align=\"left\" width=\"6%\" style=\"padding-right:10px;\" src=\"images/key.png\">\n",
    "\n",
    "The `pop()` method removes the last value from a list, and also provides back (**returns**) this value. Thus, the removed value can be used for additional processing."
   ]
  },
  {
   "cell_type": "code",
   "execution_count": null,
   "metadata": {},
   "outputs": [],
   "source": [
    "ss_list = [1500.6, 1501.3, 1498.2, 1504.4]  # sound speed in m/s\n",
    "\n",
    "while len(ss_list) > 0:\n",
    "        \n",
    "    nr_values = len(ss_list)\n",
    "    print(\"Values in the list: \" + str(ss_list))\n",
    "    removed_value = ss_list.pop()\n",
    "    print(\"Removed element: \" + str(removed_value))"
   ]
  },
  {
   "cell_type": "markdown",
   "metadata": {},
   "source": [
    " "
   ]
  },
  {
   "cell_type": "markdown",
   "metadata": {},
   "source": [
    "But what happen if the `while` condition never becomes `True`? This case could be easily created by commenting the line with the `pop()` method. *(By adding a `#` comment, the popping of the item will never be called.)*"
   ]
  },
  {
   "cell_type": "code",
   "execution_count": null,
   "metadata": {},
   "outputs": [],
   "source": [
    "ss_list = [1500.6, 1501.3, 1498.2, 1504.4]  # sound speed in m/s\n",
    "\n",
    "while len(ss_list) > 0:\n",
    "        \n",
    "    nr_values = len(ss_list)\n",
    "    print(\"Values in the list: \" + str(nr_values))\n",
    "    # ss_list.pop()  # this line is commented for creating an infinite (no-ending) iteration"
   ]
  },
  {
   "cell_type": "markdown",
   "metadata": {},
   "source": [
    "Oops! The printing is not going to finish anytime soon, unless you **force** the stop. \n",
    "\n",
    "How to do that? See the red arrow in the figure below, then click on the corresponding <button class='btn btn-default btn-xs'><i class=\"fa fa-stop\"></i></button> button in the Toolbar at the top of this notebook.\n",
    "\n",
    "![Stop the kernel](images/004_000_stop.png)"
   ]
  },
  {
   "cell_type": "markdown",
   "metadata": {},
   "source": [
    "<img align=\"left\" width=\"6%\" style=\"padding-right:10px;\" src=\"images/key.png\">\n",
    "\n",
    "The <button class='btn btn-default btn-xs'><i class=\"fa fa-stop\"></i></button> button in the Toolbar stops the execution of a **Code** cell. "
   ]
  },
  {
   "cell_type": "markdown",
   "metadata": {},
   "source": [
    "  "
   ]
  },
  {
   "cell_type": "markdown",
   "metadata": {
    "solution2": "hidden",
    "solution2_first": true
   },
   "source": [
    "<img align=\"left\" width=\"6%\" style=\"padding-right:10px;\" src=\"images/test.png\">\n",
    "\n",
    "Add the code required to pop and then print all the values from the `sal_list`:"
   ]
  },
  {
   "cell_type": "code",
   "execution_count": null,
   "metadata": {
    "solution2": "hidden"
   },
   "outputs": [],
   "source": [
    "sal_list = [32.1, 33.7, 35.0, 32.5, 31.9]  # water salinity in PSU\n",
    "\n",
    "while len(sal_list) > 0:\n",
    "        \n",
    "    removed_value = sal_list.pop()\n",
    "    print(\"Removed element: \" + str(removed_value))"
   ]
  },
  {
   "cell_type": "code",
   "execution_count": null,
   "metadata": {},
   "outputs": [],
   "source": [
    "sal_list = [32.1, 33.7, 35.0, 32.5, 31.9]  # water salinity in PSU"
   ]
  },
  {
   "cell_type": "markdown",
   "metadata": {},
   "source": [
    "***"
   ]
  },
  {
   "cell_type": "markdown",
   "metadata": {},
   "source": [
    "<img align=\"left\" width=\"6%\" style=\"padding-right:10px; padding-top:10px;\" src=\"images/refs.png\">\n",
    "\n",
    "## Useful References"
   ]
  },
  {
   "cell_type": "markdown",
   "metadata": {},
   "source": [
    "* [The official Python 3.9 documentation](https://docs.python.org/3.9/index.html)\n",
    "  * [Lists](https://docs.python.org/3.9/library/stdtypes.html?highlight=list#lists)\n",
    "* [The Python Wiki](https://wiki.python.org/moin/FrontPage)\n",
    "  * [For loops](https://wiki.python.org/moin/ForLoop)\n",
    "  * [While loops](https://wiki.python.org/moin/WhileLoop)"
   ]
  },
  {
   "cell_type": "markdown",
   "metadata": {},
   "source": [
    "<img align=\"left\" width=\"5%\" style=\"padding-right:10px;\" src=\"images/email.png\">\n",
    "\n",
    "*For issues or suggestions related to this notebook, write to: epom@ccom.unh.edu*"
   ]
  },
  {
   "cell_type": "markdown",
   "metadata": {},
   "source": [
    "<!--NAVIGATION-->\n",
    "[< Conditional Execution](003_Conditional_Execution.ipynb) | [Contents](index.ipynb) | [Write Your Own Functions >](005_Write_Your_Own_Functions.ipynb)"
   ]
  }
 ],
 "metadata": {
  "kernelspec": {
   "display_name": "Python 3",
   "language": "python",
   "name": "python3"
  },
  "language_info": {
   "codemirror_mode": {
    "name": "ipython",
    "version": 3
   },
   "file_extension": ".py",
   "mimetype": "text/x-python",
   "name": "python",
   "nbconvert_exporter": "python",
   "pygments_lexer": "ipython3",
   "version": "3.9.7"
  }
 },
 "nbformat": 4,
 "nbformat_minor": 2
}
