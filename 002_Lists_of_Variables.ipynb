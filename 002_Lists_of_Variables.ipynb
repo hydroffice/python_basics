{
 "cells": [
  {
   "cell_type": "markdown",
   "metadata": {},
   "source": [
    "<a href=\"https://www.hydroffice.org/epom/\"><img src=\"images/000_000_epom_logo.png\" alt=\"ePOM\" title=\"Open ePOM home page\" align=\"center\" width=\"12%\" alt=\"Python logo\\\"></a>"
   ]
  },
  {
   "cell_type": "markdown",
   "metadata": {},
   "source": [
    "# Lists of Variables"
   ]
  },
  {
   "cell_type": "markdown",
   "metadata": {},
   "source": [
    "As we have seen in the [previous notebook](001_Variables_and_Types.ipynb), Python provides a variety of data types (e.g., `float`, `str`) that represent values.\n",
    "\n",
    "However, it is often handy to have variables that contain more than a single value (e.g., a few measured temperature values) and provide access to those values both individually and as a group. Python achieves this grouping through the use of *containers*."
   ]
  },
  {
   "cell_type": "markdown",
   "metadata": {},
   "source": [
    "This notebook focuses on one of the most useful and popular Python containers: the `list`.\n",
    "\n",
    "You can use a `list` to collect together values that are required in your code, without the need to name each of them. \n",
    "\n",
    "For instance, you may use a `list` for collecting:\n",
    "\n",
    "- The names of the days in a week.\n",
    "- The salinity values measured during an experiment.\n",
    "- The items that you need to purchase for your experiment (i.e., a shopping list)."
   ]
  },
  {
   "cell_type": "markdown",
   "metadata": {},
   "source": [
    "Other characteristics of a `list` are that:\n",
    "\n",
    "- Each element has a specific position (that is, a `list` is **ordered**).\n",
    "- Each element can be modified (that is, a `list` is **changeable**).\n",
    "- Each element can be of any type, although they are more often of the same type (e.g., `float`)."
   ]
  },
  {
   "cell_type": "markdown",
   "metadata": {},
   "source": [
    "<img align=\"left\" width=\"6%\" style=\"padding-right:10px;\" src=\"images/key.png\">\n",
    "\n",
    "A `list` is a container for an ordered sequence of values. Each of those values can be modified."
   ]
  },
  {
   "cell_type": "markdown",
   "metadata": {},
   "source": [
    "<img align=\"left\" width=\"6%\" style=\"padding-right:10px;\" src=\"images/key.png\">\n",
    "\n",
    "The values in a list can be of any type."
   ]
  },
  {
   "cell_type": "markdown",
   "metadata": {},
   "source": [
    "There a few ways in which you can create and populate a list. We will introduce a couple of them."
   ]
  },
  {
   "cell_type": "markdown",
   "metadata": {},
   "source": [
    "***"
   ]
  },
  {
   "cell_type": "markdown",
   "metadata": {},
   "source": [
    "## Creation of a List: Approach #1"
   ]
  },
  {
   "cell_type": "markdown",
   "metadata": {},
   "source": [
    "It is possible to create and populate a list simply by enclosing the values in **square** brackets (i.e., `[` and `]`) and separating them using `,`:"
   ]
  },
  {
   "cell_type": "code",
   "execution_count": null,
   "metadata": {},
   "outputs": [],
   "source": [
    "list0 = [23, 9, 15]\n",
    "print(list0)"
   ]
  },
  {
   "cell_type": "markdown",
   "metadata": {},
   "source": [
    "By executing the above code, you will display the three numbers: `23`, `9`, and `15` by providing the `list0` argument to the `print` function. This is because the `list0` **contains** these three numbers."
   ]
  },
  {
   "cell_type": "markdown",
   "metadata": {},
   "source": [
    " "
   ]
  },
  {
   "cell_type": "markdown",
   "metadata": {
    "solution2": "hidden",
    "solution2_first": true
   },
   "source": [
    "<img align=\"left\" width=\"6%\" style=\"padding-right:10px;\" src=\"images/test.png\">\n",
    "\n",
    "Create and display a list named `float_list` with five `float` values of your choice:"
   ]
  },
  {
   "cell_type": "code",
   "execution_count": null,
   "metadata": {
    "solution2": "hidden"
   },
   "outputs": [],
   "source": [
    "float_list = [0.13, 3.96, 1.215, 8.0022, 0.9]\n",
    "print(float_list)"
   ]
  },
  {
   "cell_type": "code",
   "execution_count": null,
   "metadata": {},
   "outputs": [],
   "source": []
  },
  {
   "cell_type": "markdown",
   "metadata": {},
   "source": [
    " "
   ]
  },
  {
   "cell_type": "markdown",
   "metadata": {},
   "source": [
    "<img align=\"left\" width=\"6%\" style=\"padding-right:10px;\" src=\"images/info.png\">\n",
    "\n",
    "Remember that text (i.e., `str` type) must be between quotes (e.g., `\" \"`). If you want to review this topic, you may go back to the [previous notebook](001_Variables_and_Types.ipynb#The-Text-Type:-str)."
   ]
  },
  {
   "cell_type": "markdown",
   "metadata": {
    "solution2": "hidden",
    "solution2_first": true
   },
   "source": [
    "<img align=\"left\" width=\"6%\" style=\"padding-right:10px;\" src=\"images/test.png\">\n",
    "\n",
    "Create and display a list named `week_days_list` with the name of all the days in a week in chronological order (starting from `\"Monday\"`)."
   ]
  },
  {
   "cell_type": "code",
   "execution_count": null,
   "metadata": {
    "solution2": "hidden"
   },
   "outputs": [],
   "source": [
    "week_days_list = [\"Monday\", \"Tuesday\", \"Wednesday\", \"Thursday\", \"Friday\", \"Saturday\", \"Sunday\"]\n",
    "print(week_days_list)"
   ]
  },
  {
   "cell_type": "code",
   "execution_count": null,
   "metadata": {
    "scrolled": true
   },
   "outputs": [],
   "source": []
  },
  {
   "cell_type": "markdown",
   "metadata": {},
   "source": [
    "Python will follow the order of the days specified in the code. If you specify the days in a different order (e.g., `\"Sunday\", \"Wednesday\", \"Tuesday\", \"Monday\", \"Thursday\", \"Friday\"`), this will be the order in which the list elements will be stored and displayed (lists are **ordered**).\n",
    "\n",
    "In other words, Python does exactly what you code. Python will **not** re-order the days of the week for you!"
   ]
  },
  {
   "cell_type": "markdown",
   "metadata": {},
   "source": [
    "To count the number of elements in a `list`, you can use the `len()` function."
   ]
  },
  {
   "cell_type": "code",
   "execution_count": null,
   "metadata": {},
   "outputs": [],
   "source": [
    "list0 = [23, 9, 15]\n",
    "nr_elements = len(list0)\n",
    "print(nr_elements)"
   ]
  },
  {
   "cell_type": "markdown",
   "metadata": {},
   "source": [
    "<img align=\"left\" width=\"6%\" style=\"padding-right:10px;\" src=\"images/key.png\">\n",
    "\n",
    "The `len()` function is used to count the number of elements in Python containers like `list`."
   ]
  },
  {
   "cell_type": "markdown",
   "metadata": {},
   "source": [
    "Once that you know the number of elements in a `list`, you can directly access each of them by putting its position in the `list` (i.e., the **index**) within the `[ ]` operator. This type of access to the values contained in a container is called **indexing**."
   ]
  },
  {
   "cell_type": "markdown",
   "metadata": {},
   "source": [
    "<img align=\"left\" width=\"6%\" style=\"padding-right:10px;\" src=\"images/info.png\">\n",
    "\n",
    "Similar to many other programming languages, Python starts from `0` when **indexing** the elements in a list. This is called [zero-based numbering](https://en.wikipedia.org/wiki/Zero-based_numbering)."
   ]
  },
  {
   "cell_type": "markdown",
   "metadata": {},
   "source": [
    "For instance, **indexing** allows you to retrieve the fourth value in a list using the index `3`. Thus, in the example below, `week_days_list[3]` retrieves the fourth element of `week_days_list`: `Thursday`."
   ]
  },
  {
   "cell_type": "code",
   "execution_count": null,
   "metadata": {},
   "outputs": [],
   "source": [
    "fourth_day = week_days_list[3]\n",
    "print(fourth_day)"
   ]
  },
  {
   "cell_type": "markdown",
   "metadata": {},
   "source": [
    "We will now look at the same **indexing** approach, but applied to a list of `int` values:"
   ]
  },
  {
   "cell_type": "code",
   "execution_count": null,
   "metadata": {},
   "outputs": [],
   "source": [
    "list0 = [23, 9, 15]\n",
    "first_value = list0[0]\n",
    "print(first_value)"
   ]
  },
  {
   "cell_type": "markdown",
   "metadata": {},
   "source": [
    "Given that the `list0` variable has only three elements, the last element has the index of `2`:"
   ]
  },
  {
   "cell_type": "code",
   "execution_count": null,
   "metadata": {},
   "outputs": [],
   "source": [
    "list0 = [23, 9, 15]\n",
    "last_value = list0[2]\n",
    "print(last_value)"
   ]
  },
  {
   "cell_type": "markdown",
   "metadata": {},
   "source": [
    "If you try to access the element at an index that does not exist, the result is an `IndexError`. For instance, by accessing the invalid `10` index:"
   ]
  },
  {
   "cell_type": "code",
   "execution_count": null,
   "metadata": {},
   "outputs": [],
   "source": [
    "list0 = [23, 9, 15]\n",
    "invalid_index_value = list0[10]"
   ]
  },
  {
   "cell_type": "markdown",
   "metadata": {},
   "source": [
    "<img align=\"left\" width=\"6%\" style=\"padding-right:10px;\" src=\"images/key.png\">\n",
    "\n",
    "The `[ ]` operator provides direct access to an element in the `list` by putting the index of the element inside the brackets."
   ]
  },
  {
   "cell_type": "markdown",
   "metadata": {},
   "source": [
    "<img align=\"left\" width=\"6%\" style=\"padding-right:10px;\" src=\"images/key.png\">\n",
    "\n",
    "The `[0]` index provides access to the first element in a `list` (unless the `list` is empty)."
   ]
  },
  {
   "cell_type": "markdown",
   "metadata": {},
   "source": [
    "<img align=\"left\" width=\"6%\" style=\"padding-right:10px;\" src=\"images/key.png\">\n",
    "\n",
    "The last index of a `list` is equal to the number of elements in a `list` minus one."
   ]
  },
  {
   "cell_type": "markdown",
   "metadata": {},
   "source": [
    "An alternative way to access the last element in a `list` is to use the index `-1`:"
   ]
  },
  {
   "cell_type": "code",
   "execution_count": null,
   "metadata": {},
   "outputs": [],
   "source": [
    "list0 = [23, 9, 15]\n",
    "last_value = list0[-1]\n",
    "print(last_value)"
   ]
  },
  {
   "cell_type": "markdown",
   "metadata": {},
   "source": [
    "<img align=\"left\" width=\"6%\" style=\"padding-right:10px;\" src=\"images/info.png\">\n",
    "\n",
    "You can keep moving backwards to access the other elements in a `list`. Thus, if we use the index `-2`, `9` will be the printed value:"
   ]
  },
  {
   "cell_type": "code",
   "execution_count": null,
   "metadata": {},
   "outputs": [],
   "source": [
    "list0 = [23, 9, 15]\n",
    "last_value = list0[-2]\n",
    "print(last_value)"
   ]
  },
  {
   "cell_type": "markdown",
   "metadata": {},
   "source": [
    " "
   ]
  },
  {
   "cell_type": "markdown",
   "metadata": {
    "solution2": "hidden",
    "solution2_first": true
   },
   "source": [
    "<img align=\"left\" width=\"6%\" style=\"padding-right:10px;\" src=\"images/test.png\">\n",
    "\n",
    "Add the required code to print the third element (`30.5`) in the `list`:"
   ]
  },
  {
   "cell_type": "code",
   "execution_count": null,
   "metadata": {
    "solution2": "hidden"
   },
   "outputs": [],
   "source": [
    "salinity_values = [31.4, 31.6, 30.5, 30.8, 30.4]\n",
    "third_value = salinity_values[2]\n",
    "print(third_value)"
   ]
  },
  {
   "cell_type": "code",
   "execution_count": null,
   "metadata": {},
   "outputs": [],
   "source": [
    "salinity_values = [31.4, 31.6, 30.5, 30.8, 30.4]"
   ]
  },
  {
   "cell_type": "markdown",
   "metadata": {},
   "source": [
    "  "
   ]
  },
  {
   "cell_type": "markdown",
   "metadata": {
    "solution2": "hidden",
    "solution2_first": true
   },
   "source": [
    "<img align=\"left\" width=\"6%\" style=\"padding-right:10px;\" src=\"images/test.png\">\n",
    "\n",
    "Add the required code to print the last element (`30.4`) in the `list`:"
   ]
  },
  {
   "cell_type": "code",
   "execution_count": null,
   "metadata": {
    "solution2": "hidden"
   },
   "outputs": [],
   "source": [
    "salinity_values = [31.4, 31.6, 30.5, 30.8, 30.4]\n",
    "third_value = salinity_values[-1]\n",
    "print(third_value)"
   ]
  },
  {
   "cell_type": "code",
   "execution_count": null,
   "metadata": {},
   "outputs": [],
   "source": [
    "salinity_values = [31.4, 31.6, 30.5, 30.8, 30.4]"
   ]
  },
  {
   "cell_type": "markdown",
   "metadata": {},
   "source": [
    "***"
   ]
  },
  {
   "cell_type": "markdown",
   "metadata": {},
   "source": [
    "## Creation of a List: Approach #2"
   ]
  },
  {
   "cell_type": "markdown",
   "metadata": {},
   "source": [
    "An alternative creation approach is to first create a empty `list` and to then append some values."
   ]
  },
  {
   "cell_type": "code",
   "execution_count": null,
   "metadata": {},
   "outputs": [],
   "source": [
    "list1 = list()\n",
    "list1.append(23)\n",
    "list1.append(9)\n",
    "list1.append(15)\n",
    "print(list1)"
   ]
  },
  {
   "cell_type": "markdown",
   "metadata": {},
   "source": [
    "In the above code: \n",
    "\n",
    "- First, an empty `list` (created using the `list()` constructor) is assigned to the `list1` variable. \n",
    "- Then, three integers values (`23`, `9`, and `15`) are appended to the `list`, using `.append()`.\n",
    "- Finally, the familiar `print()` function is called with the `list1` variable to display the three values that are the `list` content. "
   ]
  },
  {
   "cell_type": "markdown",
   "metadata": {},
   "source": [
    "The two lists (`list0` and `list1`) created in Approaches 1 & 2 above contain the same values. It is, therefore, often a question of convenience (and/or personal preference) which creation approach to follow."
   ]
  },
  {
   "cell_type": "markdown",
   "metadata": {},
   "source": [
    "You may have noticed the `.append()` in the above code. \n",
    "\n",
    "The syntax to use this function is different than the other functions in the earlier notebooks (i.e., `type()` and `print()`).\n",
    "\n",
    "The `append()` is a specialized function that applies to the variable (i.e., `list1`) that is connected to by the `.`\n",
    "\n",
    "This type of variable-specific function is called a **method**."
   ]
  },
  {
   "cell_type": "markdown",
   "metadata": {},
   "source": [
    "<img align=\"left\" width=\"6%\" style=\"padding-right:10px;\" src=\"images/key.png\">\n",
    "\n",
    "A **method** is a specialized function that applies to the variable at which is connected by the `.`"
   ]
  },
  {
   "cell_type": "markdown",
   "metadata": {},
   "source": [
    "***"
   ]
  },
  {
   "cell_type": "markdown",
   "metadata": {},
   "source": [
    "## List's Methods"
   ]
  },
  {
   "cell_type": "markdown",
   "metadata": {},
   "source": [
    "We have just met our first method: `append()`. This method is just one of several methods available in each `list` variable.\n",
    "\n",
    "To see the methods available for each variable, you can use the `dir()` function:"
   ]
  },
  {
   "cell_type": "code",
   "execution_count": null,
   "metadata": {},
   "outputs": [],
   "source": [
    "list2 = [1, 2, 4, 8, 16, 32, 64, 128]\n",
    "dir(list2)"
   ]
  },
  {
   "cell_type": "markdown",
   "metadata": {},
   "source": [
    "After the execution of the above code, a quite long list of methods applicable to the variable is displayed. Do not despair! As you progress through these notebooks you will get more familiar with the functionality of many of these methods.\n",
    "\n",
    "For the moment, ignore the methods with names starting with `__` characters (e.g., two `_`). In Python, they are called **magic methods**. Each magic method has a *special* use, but its description is outside the scope of this notebook."
   ]
  },
  {
   "cell_type": "markdown",
   "metadata": {},
   "source": [
    "<img align=\"left\" width=\"6%\" style=\"padding-right:10px;\" src=\"images/info.png\">\n",
    "\n",
    "You will learn more about some of these magic methods in later [notebooks](008_First_Steps_of_a_Class.ipynb)."
   ]
  },
  {
   "cell_type": "markdown",
   "metadata": {},
   "source": [
    "After the **magic methods**, you should see the `append()` method that we have just talked about. There are also other methods listed that are useful to know about. You can probably guess what many of them do by their names."
   ]
  },
  {
   "cell_type": "markdown",
   "metadata": {},
   "source": [
    "<img align=\"left\" width=\"6%\" style=\"padding-right:10px;\" src=\"images/key.png\">\n",
    "\n",
    "The [`dir()`](https://docs.python.org/3.9/library/functions.html#dir) function can be used to explore the methods available for a variable."
   ]
  },
  {
   "cell_type": "markdown",
   "metadata": {},
   "source": [
    "For instance, the `remove()` method is used to remove the **first** element with a given value from a `list`. \n",
    "\n",
    "The code in the cell below displays two numbers: \n",
    "\n",
    "- The first number is the initial number of elements in the list (i.e., `8` elements).\n",
    "- The second number is the resulting number of elements after applied `remove()` for the `64` value (i.e., `7` elements).\n",
    "\n",
    "Note that in this case the `list` element holding the value 64 was removed, **not** the 64th element of the list!"
   ]
  },
  {
   "cell_type": "code",
   "execution_count": null,
   "metadata": {},
   "outputs": [],
   "source": [
    "list2 = [1, 2, 4, 8, 16, 32, 64, 128]\n",
    "\n",
    "initial_nr_elements = len(list2)\n",
    "print(initial_nr_elements)\n",
    "\n",
    "list2.remove(64)\n",
    "\n",
    "final_nr_elements = len(list2)\n",
    "print(final_nr_elements)\n",
    "print(list2)"
   ]
  },
  {
   "cell_type": "markdown",
   "metadata": {},
   "source": [
    "The code below also removes the `64` entry from `list2`, but in a slightly different way. The code first retrieves the value at the index `6` (thus, the retrieved value will be `64`), then uses this value for removing it from the `list`."
   ]
  },
  {
   "cell_type": "code",
   "execution_count": null,
   "metadata": {},
   "outputs": [],
   "source": [
    "list2 = [1, 2, 4, 8, 16, 32, 64, 128]\n",
    "\n",
    "initial_nr_elements = len(list2)\n",
    "print(initial_nr_elements)\n",
    "\n",
    "seventh_element = list2[6]\n",
    "list2.remove(seventh_element)\n",
    "\n",
    "final_nr_elements = len(list2)\n",
    "print(final_nr_elements)\n",
    "print(list2)"
   ]
  },
  {
   "cell_type": "markdown",
   "metadata": {},
   "source": [
    " "
   ]
  },
  {
   "cell_type": "markdown",
   "metadata": {
    "solution2": "hidden",
    "solution2_first": true
   },
   "source": [
    "<img align=\"left\" width=\"6%\" style=\"padding-right:10px;\" src=\"images/test.png\">\n",
    "\n",
    "Add the required code to append `1020.5` to the `depth_list` variable, then display the resulting list elements."
   ]
  },
  {
   "cell_type": "code",
   "execution_count": null,
   "metadata": {
    "solution2": "hidden"
   },
   "outputs": [],
   "source": [
    "depth_list = [0.5, 12.2, 59.2, 429.2]\n",
    "depth_list.append(1020.5)\n",
    "print(depth_list)"
   ]
  },
  {
   "cell_type": "code",
   "execution_count": null,
   "metadata": {},
   "outputs": [],
   "source": [
    "depth_list = [0.5, 12.2, 59.2, 429.2]"
   ]
  },
  {
   "cell_type": "markdown",
   "metadata": {},
   "source": [
    " "
   ]
  },
  {
   "cell_type": "markdown",
   "metadata": {
    "solution2": "hidden",
    "solution2_first": true
   },
   "source": [
    "<img align=\"left\" width=\"6%\" style=\"padding-right:10px;\" src=\"images/test.png\">\n",
    "\n",
    "Add the required code to remove `North Pacific right whale` from the `cetaceans_list` variable, then display the resulting number of elements."
   ]
  },
  {
   "cell_type": "code",
   "execution_count": null,
   "metadata": {
    "solution2": "hidden"
   },
   "outputs": [],
   "source": [
    "cetaceans_list = [\"Bowhead whale\", \"North Atlantic right whale\", \"North Pacific right whale\", \"Southern right whale\"]\n",
    "cetaceans_list.remove(\"North Pacific right whale\")\n",
    "nr_or_cetaceans = len(cetaceans_list)\n",
    "print(nr_or_cetaceans)"
   ]
  },
  {
   "cell_type": "code",
   "execution_count": null,
   "metadata": {},
   "outputs": [],
   "source": [
    "cetaceans_list = [\"Bowhead whale\", \"North Atlantic right whale\", \"North Pacific right whale\", \"Southern right whale\"]"
   ]
  },
  {
   "cell_type": "markdown",
   "metadata": {},
   "source": [
    " "
   ]
  },
  {
   "cell_type": "markdown",
   "metadata": {},
   "source": [
    "<img align=\"left\" width=\"6%\" style=\"padding-right:10px;\" src=\"images/info.png\">\n",
    "\n",
    "A `list` implements all of the so-called [*common*](https://docs.python.org/3.9/library/stdtypes.html?#typesseq-common) and [*mutable sequence operations*](https://docs.python.org/3.9/library/stdtypes.html?#mutable-sequence-types).\n",
    "If you are curious to know more about the methods available for a `list`, look at this [section](https://docs.python.org/3.9/library/stdtypes.html?highlight=list#lists) of the official Python documentation."
   ]
  },
  {
   "cell_type": "markdown",
   "metadata": {},
   "source": [
    "***"
   ]
  },
  {
   "cell_type": "markdown",
   "metadata": {},
   "source": [
    "<img align=\"left\" width=\"6%\" style=\"padding-right:10px; padding-top:10px;\" src=\"images/refs.png\">\n",
    "\n",
    "## Useful References"
   ]
  },
  {
   "cell_type": "markdown",
   "metadata": {},
   "source": [
    "* [The official Python 3.9 documentation](https://docs.python.org/3.9/index.html)\n",
    "  * [Common Sequence Operations](https://docs.python.org/3.9/library/stdtypes.html?#typesseq-common)\n",
    "  * [Mutable Sequence Operations](https://docs.python.org/3.9/library/stdtypes.html?#mutable-sequence-types)\n",
    "  * [Lists](https://docs.python.org/3.9/library/stdtypes.html?highlight=list#lists)\n",
    "* [Zero-based numbering](https://en.wikipedia.org/wiki/Zero-based_numbering)"
   ]
  },
  {
   "cell_type": "markdown",
   "metadata": {},
   "source": [
    "<img align=\"left\" width=\"5%\" style=\"padding-right:10px;\" src=\"images/email.png\">\n",
    "\n",
    "*For issues or suggestions related to this notebook, write to: epom@ccom.unh.edu*"
   ]
  },
  {
   "cell_type": "markdown",
   "metadata": {},
   "source": [
    "<!--NAVIGATION-->\n",
    "[< Variables and Types](001_Variables_and_Types.ipynb) | [Contents](index.ipynb) | [Conditional Execution >](003_Conditional_Execution.ipynb)"
   ]
  }
 ],
 "metadata": {
  "kernelspec": {
   "display_name": "Python 3",
   "language": "python",
   "name": "python3"
  },
  "language_info": {
   "codemirror_mode": {
    "name": "ipython",
    "version": 3
   },
   "file_extension": ".py",
   "mimetype": "text/x-python",
   "name": "python",
   "nbconvert_exporter": "python",
   "pygments_lexer": "ipython3",
   "version": "3.6.7"
  }
 },
 "nbformat": 4,
 "nbformat_minor": 2
}
